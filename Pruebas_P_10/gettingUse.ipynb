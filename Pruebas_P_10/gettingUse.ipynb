{
 "cells": [
  {
   "cell_type": "code",
   "execution_count": 1,
   "metadata": {},
   "outputs": [],
   "source": [
    "# Lista de libros\n",
    "libros = [] #lista vacía"
   ]
  },
  {
   "cell_type": "code",
   "execution_count": 2,
   "metadata": {},
   "outputs": [],
   "source": [
    "# Función para agregar un libro\n",
    "def agregar_libro():\n",
    "    titulo = input('Ingrese el título del libro: ')\n",
    "    libros.append(titulo)\n",
    "    print('Libro agregado:', titulo)"
   ]
  },
  {
   "cell_type": "code",
   "execution_count": 3,
   "metadata": {},
   "outputs": [],
   "source": [
    "# Función para eliminar un libro\n",
    "def eliminar_libro():\n",
    "    titulo = input('Ingrese el título del libro: ')\n",
    "    if titulo in libros:\n",
    "        libros.remove(titulo)\n",
    "        print('Libro eliminado:', titulo)\n",
    "    else:\n",
    "        print('Libro no encontrado')"
   ]
  },
  {
   "cell_type": "code",
   "execution_count": 4,
   "metadata": {},
   "outputs": [],
   "source": [
    "\n",
    "# Función para ordenar la biblioteca\n",
    "def ordenar_biblioteca():\n",
    "    libros.sort()\n",
    "    print('La biblioteca queda con el siguiente orden:')\n",
    "    for libro in libros:\n",
    "        print(libro)"
   ]
  },
  {
   "cell_type": "code",
   "execution_count": 5,
   "metadata": {},
   "outputs": [],
   "source": [
    "\n",
    "# Función para ver la biblioteca\n",
    "def ver_biblioteca():\n",
    "    print('La biblioteca contiene los siguientes libros:')\n",
    "    for libro in libros:\n",
    "        print(libro)"
   ]
  },
  {
   "cell_type": "code",
   "execution_count": null,
   "metadata": {},
   "outputs": [],
   "source": [
    "\n",
    "# Menú principal\n",
    "while True:\n",
    "    print('Bienvenido a la biblioteca, puede realizar las siguientes operaciones:')\n",
    "    print('1 Agregar libro')\n",
    "    print('2 Eliminar libro')\n",
    "    print('3 Ordenar biblioteca')\n",
    "    print('4 Ver biblioteca')\n",
    "    print('5 Salir')\n",
    "    opcion = input('Ingrese la opción: ')\n",
    "    \n",
    "    if opcion == '1':\n",
    "        agregar_libro()\n",
    "    elif opcion == '2':\n",
    "        eliminar_libro()\n",
    "    elif opcion == '3':\n",
    "        ordenar_biblioteca()\n",
    "    elif opcion == '4':\n",
    "        ver_biblioteca()\n",
    "    elif opcion == '5':\n",
    "        break"
   ]
  }
 ],
 "metadata": {
  "kernelspec": {
   "display_name": "Python 3",
   "language": "python",
   "name": "python3"
  },
  "language_info": {
   "codemirror_mode": {
    "name": "ipython",
    "version": 3
   },
   "file_extension": ".py",
   "mimetype": "text/x-python",
   "name": "python",
   "nbconvert_exporter": "python",
   "pygments_lexer": "ipython3",
   "version": "3.11.1"
  },
  "orig_nbformat": 4
 },
 "nbformat": 4,
 "nbformat_minor": 2
}
