{
 "cells": [
  {
   "cell_type": "code",
   "execution_count": 11,
   "metadata": {},
   "outputs": [
    {
     "data": {
      "text/plain": [
       "False"
      ]
     },
     "execution_count": 11,
     "metadata": {},
     "output_type": "execute_result"
    }
   ],
   "source": [
    "any([True, False, True])#es una función integrada, adentro hay una lista de bools\n",
    "#any([False, False, False]) "
   ]
  },
  {
   "cell_type": "code",
   "execution_count": 4,
   "metadata": {},
   "outputs": [
    {
     "data": {
      "text/plain": [
       "True"
      ]
     },
     "execution_count": 4,
     "metadata": {},
     "output_type": "execute_result"
    }
   ],
   "source": [
    "any([False, False, True]) #lo que se me hace cuiroso es que este y la anterior celda, y la siguiente, no la puede juntar por que no me imprime más que la última función que se mande a llamar"
   ]
  },
  {
   "cell_type": "code",
   "execution_count": 5,
   "metadata": {},
   "outputs": [
    {
     "data": {
      "text/plain": [
       "False"
      ]
     },
     "execution_count": 5,
     "metadata": {},
     "output_type": "execute_result"
    }
   ],
   "source": [
    "any([False, False, False]) "
   ]
  },
  {
   "cell_type": "code",
   "execution_count": 7,
   "metadata": {},
   "outputs": [
    {
     "data": {
      "text/plain": [
       "''"
      ]
     },
     "execution_count": 7,
     "metadata": {},
     "output_type": "execute_result"
    }
   ],
   "source": [
    "str() #supongo que devuelve la cadena\n",
    "#yo pienso que el punto de esto era mostrar que hay funciones(en este caso integradas) en las que puedes elegir si enviar un argumento o no, y no te envia error"
   ]
  },
  {
   "cell_type": "code",
   "execution_count": 9,
   "metadata": {},
   "outputs": [
    {
     "data": {
      "text/plain": [
       "'mochi'"
      ]
     },
     "execution_count": 9,
     "metadata": {},
     "output_type": "execute_result"
    }
   ],
   "source": [
    "str('15')\n",
    "str('mochi')"
   ]
  },
  {
   "attachments": {},
   "cell_type": "markdown",
   "metadata": {},
   "source": [
    "En una función, uno elige si poner un return o nel"
   ]
  },
  {
   "cell_type": "code",
   "execution_count": 15,
   "metadata": {},
   "outputs": [
    {
     "data": {
      "text/plain": [
       "7"
      ]
     },
     "execution_count": 15,
     "metadata": {},
     "output_type": "execute_result"
    }
   ],
   "source": [
    "#round es una función integrada\n",
    "round(7.5) #las funciones pueden ser argumentos"
   ]
  },
  {
   "cell_type": "code",
   "execution_count": 16,
   "metadata": {},
   "outputs": [
    {
     "data": {
      "text/plain": [
       "7"
      ]
     },
     "execution_count": 16,
     "metadata": {},
     "output_type": "execute_result"
    }
   ],
   "source": [
    "round(7.49)"
   ]
  },
  {
   "cell_type": "code",
   "execution_count": 18,
   "metadata": {},
   "outputs": [
    {
     "data": {
      "text/plain": [
       "8"
      ]
     },
     "execution_count": 18,
     "metadata": {},
     "output_type": "execute_result"
    }
   ],
   "source": [
    "round(7.51)"
   ]
  },
  {
   "cell_type": "code",
   "execution_count": null,
   "metadata": {},
   "outputs": [],
   "source": [
    "from datetime import timedelta, datetime\n",
    "\n",
    "def duracionDelConcurso(hours=5):\n",
    "    now = datetime.now()\n",
    "    arrival = now + timedelta(hours=hours)\n",
    "    return arrival.strftime(\"La duración del concurso es hasta el momento: %a\")\n",
    "\n",
    "duracionDelConcurso()\n",
    "duracionDelConcurso(1)\n",
    "duracionDelConcurso(hours=1)"
   ]
  },
  {
   "cell_type": "code",
   "execution_count": 23,
   "metadata": {},
   "outputs": [
    {
     "data": {
      "text/plain": [
       "'La duración del concurso es hasta el momento: DíaDeSemana Monday Mon, Fecha 2023-05-15 05/15/23, Día 15, Mes May May 05, AÑO 2023, minutos 56, Segundos 53'"
      ]
     },
     "execution_count": 23,
     "metadata": {},
     "output_type": "execute_result"
    }
   ],
   "source": [
    "from datetime import timedelta, datetime\n",
    "\n",
    "def duracionDelConcurso(horas=5): #5 es un valor predeterminado #los argumentos de palabra clave deben definirse en la funcion \n",
    "    ahora = datetime.now() #datetiem perimite obtener la fecha actual\n",
    "    llegada = ahora + timedelta(hours=horas) #timedelta permite la operación de suma a un objeto de hora\n",
    "    return llegada.strftime(\"La duración del concurso es hasta el momento: DíaDeSemana %A %a, Fecha %F %D, Día %d, Mes %B %b %m, AÑO %Y, minutos %M, Segundos %S\")\n",
    "\n",
    "duracionDelConcurso()\n"
   ]
  },
  {
   "cell_type": "code",
   "execution_count": 24,
   "metadata": {},
   "outputs": [
    {
     "data": {
      "text/plain": [
       "'La duración del concurso es hasta el momento: DíaDeSemana Monday Mon, Fecha 2023-05-15 05/15/23, Día 15, Mes May May 05, AÑO 2023, minutos 56, Segundos 56'"
      ]
     },
     "execution_count": 24,
     "metadata": {},
     "output_type": "execute_result"
    }
   ],
   "source": [
    "duracionDelConcurso(1) #segun yo no cambia nada que enviemos argumentos, por que hora siempre va a valer 5? además no veo diferencia cuando vale otro numero"
   ]
  },
  {
   "cell_type": "code",
   "execution_count": 25,
   "metadata": {},
   "outputs": [
    {
     "data": {
      "text/plain": [
       "'La duración del concurso es hasta el momento: DíaDeSemana Monday Mon, Fecha 2023-05-15 05/15/23, Día 15, Mes May May 05, AÑO 2023, minutos 56, Segundos 57'"
      ]
     },
     "execution_count": 25,
     "metadata": {},
     "output_type": "execute_result"
    }
   ],
   "source": [
    "duracionDelConcurso(horas=1)"
   ]
  },
  {
   "attachments": {},
   "cell_type": "markdown",
   "metadata": {},
   "source": [
    "Argumentos variables"
   ]
  },
  {
   "cell_type": "code",
   "execution_count": 1,
   "metadata": {},
   "outputs": [
    {
     "name": "stdout",
     "output_type": "stream",
     "text": [
      "()\n",
      "('stack', 'queue', 'linked list')\n",
      "(5,)\n"
     ]
    }
   ],
   "source": [
    "def argumentos_variables(*args): #lo que hace este asterísco es que puedo elegir cuantos argumentos enviar, desde cero argumentos hasta n argumentos\n",
    "#es que *args es comun en python, significa número indeterminado de valores o lo mismo argumentos variables\n",
    "    print(args)\n",
    "\n",
    "argumentos_variables() #si no tuviera el asterísco no imprimiría este, por que al menos tienes que enviar un argumento\n",
    "argumentos_variables(\"stack\",\"queue\",\"linked list\") #segun yo es una lista por los paréntesis, #si no tuviera el asterísco no imprimiría este, por que estas enviando más de un argumento\n",
    "argumentos_variables(5) #si no tuviera el asterisco, solo imprimiría este"
   ]
  },
  {
   "cell_type": "code",
   "execution_count": 32,
   "metadata": {},
   "outputs": [
    {
     "name": "stdout",
     "output_type": "stream",
     "text": [
      "5\n"
     ]
    }
   ],
   "source": [
    "def argumentos_variables(argumento): \n",
    "    print(argumento)\n",
    "\n",
    "#argumentos_variables() error\n",
    "#argumentos_variables(\"stack\",\"queue\",\"linked list\") error\n",
    "argumentos_variables(5)"
   ]
  },
  {
   "attachments": {},
   "cell_type": "markdown",
   "metadata": {},
   "source": [
    "Argumentos variables de palabra clave"
   ]
  },
  {
   "cell_type": "code",
   "execution_count": 11,
   "metadata": {},
   "outputs": [
    {
     "name": "stdout",
     "output_type": "stream",
     "text": [
      "3 estructuras de datos y sus operaciones\n",
      "3 estructuras de datos y sus operaciones\n",
      "\tstack->pop, push\n",
      "\tstack->pop, push\n",
      "\tqueue->enqueue, dequeue\n",
      "\tqueue->enqueue, dequeue\n",
      "\tlist->add, delete\n",
      "\tlist->add, delete\n"
     ]
    }
   ],
   "source": [
    "def logitudDeVariable(**kwargs): #creo que se crea como un diccionario donde kwargs={stack=\"pop, push\", queue=\"enqueue, dequeue\", list=\"add, delete\"}\n",
    "    \n",
    "    print(f\"{len(kwargs)} estructuras de datos y sus operaciones\") #entonces agumentosConocidos=#stack=\"pop, push\", queue=\"enqueue, dequeue\", list=\"add, delete\"\n",
    "    print(\"{} estructuras de datos y sus operaciones\".format(len(kwargs)))\n",
    "\n",
    "    for titulo, nombre in kwargs.items():\n",
    "        print(f\"\\t{titulo}->{nombre}\") #supongo que la f es para imprimir variables\n",
    "        print(\"\\t{}->{}\".format(titulo, nombre))\n",
    "        #print(\"\\t{1}->{0}\".format(nombre, título)) error\n",
    "\n",
    "logitudDeVariable(stack=\"pop, push\", queue=\"enqueue, dequeue\", list=\"add, delete\") \n",
    "\n",
    "#supongo que aquí, no solo puedo elegir cuantas variables enviar, sino también conservar su nombre? o a qué se refiere palabra clave?"
   ]
  },
  {
   "attachments": {},
   "cell_type": "markdown",
   "metadata": {},
   "source": [
    "Variables globales"
   ]
  },
  {
   "cell_type": "code",
   "execution_count": 12,
   "metadata": {},
   "outputs": [
    {
     "name": "stdout",
     "output_type": "stream",
     "text": [
      "0\n"
     ]
    }
   ],
   "source": [
    "cont = 0\n",
    "\n",
    "def funcion1():\n",
    "    cont=5 #no la modifica\n",
    "\n",
    "funcion1()\n",
    "print(cont)"
   ]
  },
  {
   "cell_type": "code",
   "execution_count": 13,
   "metadata": {},
   "outputs": [
    {
     "name": "stdout",
     "output_type": "stream",
     "text": [
      "5\n"
     ]
    }
   ],
   "source": [
    "cont = 0\n",
    "\n",
    "def funcion2():\n",
    "    global cont #quieres modificar la global, pero como que la defines de nuevo\n",
    "    cont=5 \n",
    "\n",
    "funcion2()\n",
    "print(cont)"
   ]
  },
  {
   "attachments": {},
   "cell_type": "markdown",
   "metadata": {},
   "source": [
    "Función lambda"
   ]
  },
  {
   "cell_type": "code",
   "execution_count": 20,
   "metadata": {},
   "outputs": [
    {
     "name": "stdout",
     "output_type": "stream",
     "text": [
      "24\n",
      "162\n",
      "12\n",
      "9\n",
      "holaalumno\n"
     ]
    }
   ],
   "source": [
    "#1° forma\n",
    "letras = lambda x, y, z: x * y * z \n",
    "print(letras(2, 3, 4))\n",
    "print(letras(3, 6, 9))\n",
    "\n",
    "letritas = lambda p, q, r: p * (q + r)\n",
    "print(letritas(1, 5, 7))\n",
    "\n",
    "#2° forma\n",
    "print((lambda x: x**2) (3))\n",
    "print((lambda nombre: 'hola' + nombre) (\"alumno\"))"
   ]
  }
 ],
 "metadata": {
  "kernelspec": {
   "display_name": "Python 3",
   "language": "python",
   "name": "python3"
  },
  "language_info": {
   "codemirror_mode": {
    "name": "ipython",
    "version": 3
   },
   "file_extension": ".py",
   "mimetype": "text/x-python",
   "name": "python",
   "nbconvert_exporter": "python",
   "pygments_lexer": "ipython3",
   "version": "3.11.1"
  },
  "orig_nbformat": 4
 },
 "nbformat": 4,
 "nbformat_minor": 2
}
