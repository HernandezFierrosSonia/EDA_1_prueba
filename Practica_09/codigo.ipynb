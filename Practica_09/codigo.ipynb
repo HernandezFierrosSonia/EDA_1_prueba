{
  "cells": [
    {
      "cell_type": "markdown",
      "metadata": {},
      "source": [
        "<img src=\"https://www.python.org/static/community_logos/python-logo-master-v3-TM.png\" title=\"Python Logo\"/>"
      ]
    },
    {
      "cell_type": "markdown",
      "metadata": {},
      "source": [
        "<code style=\"background:blue; color:yellow\"><h1>Guía práctica de estudio 9:</h1></code>"
      ]
    },
    {
      "cell_type": "markdown",
      "metadata": {},
      "source": [
        "<code style=\"background:yellow ;color:blue\"><span style=\"font-family:Comic Sans MS\"><h2>Introducción al lenguaje de programación Python</h2></span></code>"
      ]
    },
    {
      "cell_type": "markdown",
      "metadata": {},
      "source": [
        "<b>Variables y tipos</b>"
      ]
    },
    {
      "cell_type": "code",
      "execution_count": 2,
      "metadata": {
        "trusted": true
      },
      "outputs": [
        {
          "name": "stdout",
          "output_type": "stream",
          "text": [
            "10\n",
            "Hola mundo\n",
            "Adiós mundo\n"
          ]
        }
      ],
      "source": [
        "#Inicialización de variables\n",
        "x = 10 #variable de tipo entero\n",
        "print(x)#función para imprimir los valores de las variables\n",
        "\n",
        "#se puede utilizar comillas dobles o simples para crear una cadena\n",
        "cadena1 = \"Hola mundo\" #variable de tipo cadena\n",
        "cadena2 = 'Adiós mundo' #entre los operdores de signo se deja espacio\n",
        "print(cadena1)\n",
        "print(cadena2)"
      ]
    },
    {
      "cell_type": "code",
      "execution_count": 3,
      "metadata": {
        "trusted": true
      },
      "outputs": [
        {
          "name": "stdout",
          "output_type": "stream",
          "text": [
            "10 10 10\n",
            "Ardilla Ardilla Ardilla\n"
          ]
        }
      ],
      "source": [
        "#Asigna un mismo valor a tres variables\n",
        "x = y = z = 10 #nota como x ya existía en la celda anterior\n",
        "print(z, x, y) \n",
        "s = t = u = \"Ardilla\"\n",
        "print(s, t, u)"
      ]
    },
    {
      "cell_type": "code",
      "execution_count": 7,
      "metadata": {
        "trusted": true
      },
      "outputs": [
        {
          "data": {
            "text/plain": [
              "'la de arriba no la toma en cuenta '"
            ]
          },
          "execution_count": 7,
          "metadata": {},
          "output_type": "execute_result"
        }
      ],
      "source": [
        "#la función type() permite conocer el tipo de variable\n",
        "type(u)\n",
        "type(y) \n",
        "\"\"\"la de arriba no la toma en cuenta \"\"\""
      ]
    },
    {
      "cell_type": "code",
      "execution_count": 8,
      "metadata": {
        "trusted": true
      },
      "outputs": [
        {
          "data": {
            "text/plain": [
              "str"
            ]
          },
          "execution_count": 8,
          "metadata": {},
          "output_type": "execute_result"
        }
      ],
      "source": [
        "type(u)"
      ]
    },
    {
      "cell_type": "code",
      "execution_count": 9,
      "metadata": {
        "trusted": true
      },
      "outputs": [],
      "source": [
        "#se pueden cambiar los valores de las variables y el tipo se cambia automáticamente\n",
        "x = \"Día de asueto\"\n",
        "cadena = 10"
      ]
    },
    {
      "cell_type": "code",
      "execution_count": 10,
      "metadata": {
        "trusted": true
      },
      "outputs": [
        {
          "data": {
            "text/plain": [
              "str"
            ]
          },
          "execution_count": 10,
          "metadata": {},
          "output_type": "execute_result"
        }
      ],
      "source": [
        "type(x)"
      ]
    },
    {
      "cell_type": "code",
      "execution_count": 7,
      "metadata": {
        "trusted": true
      },
      "outputs": [
        {
          "data": {
            "text/plain": [
              "int"
            ]
          },
          "execution_count": 7,
          "metadata": {},
          "output_type": "execute_result"
        }
      ],
      "source": [
        "type(cadena)"
      ]
    },
    {
      "cell_type": "markdown",
      "metadata": {},
      "source": [
        "Cuando una variable tiene un valor constante, por convención, el nombre se escribe en mayúsculas."
      ]
    },
    {
      "cell_type": "code",
      "execution_count": 8,
      "metadata": {
        "trusted": true
      },
      "outputs": [],
      "source": [
        "SEGUNDOS_POR_DIA = 60*60*24\n",
        "PI = 3.1416"
      ]
    },
    {
      "cell_type": "markdown",
      "metadata": {},
      "source": [
        "**<h4>Cadenas</h4>**\n",
        "Las cadenas pueden ser definidas usando comilla simple (') o comilla doble (\"). Una carcaterística especial de las cadenas es que son inmutables, esto quiere decir que no se pueden cambiar los caracteres que contiene. El caracter \\ sirve para escapar caracteres como \\n \\t."
      ]
    },
    {
      "cell_type": "code",
      "execution_count": 9,
      "metadata": {
        "trusted": true
      },
      "outputs": [
        {
          "name": "stdout",
          "output_type": "stream",
          "text": [
            "Hola \n",
            "Mundo\n",
            "Hola Mundo\n"
          ]
        }
      ],
      "source": [
        "#Inicializando cadenas\n",
        "cadena_1 = 'Hola '\n",
        "cadena_2 = \"Mundo\"\n",
        "print(cadena_1)\n",
        "print(cadena_2)\n",
        "concat_cadenas = cadena_1 + cadena_2 #concatenación de cadenas\n",
        "print(concat_cadenas)"
      ]
    },
    {
      "cell_type": "code",
      "execution_count": 10,
      "metadata": {
        "trusted": true
      },
      "outputs": [
        {
          "name": "stdout",
          "output_type": "stream",
          "text": [
            "Hola Mundo 3 6\n"
          ]
        }
      ],
      "source": [
        "#Para concatenar un número y una cadena se debe usar la función str()\n",
        "\"\"\" Es como convertir el integrer a string\n",
        "Personalmente puedes pensar que concatenar y unir es lo mismo\"\"\"\n",
        "num_cadena = concat_cadenas + ' ' + str(3)+ \" \" + str(6) #se agrega cadena vacía en dos ocaciones para agregar espacio, la primera vez con comilla simple y la segunda con comilla doble\n",
        "print(num_cadena)"
      ]
    },
    {
      "cell_type": "markdown",
      "metadata": {},
      "source": [
        "Para concatenar cadenas se recomienda el uso de la función format(), en lugar del viejo estilo del operador '+'."
      ]
    },
    {
      "cell_type": "code",
      "execution_count": 11,
      "metadata": {
        "trusted": true
      },
      "outputs": [
        {
          "name": "stdout",
          "output_type": "stream",
          "text": [
            "Hola Mundo 3\n"
          ]
        },
        {
          "data": {
            "text/plain": [
              "str"
            ]
          },
          "execution_count": 11,
          "metadata": {},
          "output_type": "execute_result"
        }
      ],
      "source": [
        "#El valor de la variable se va a imprimir en el lugar donde se encuentre {} en la cadena\n",
        "num_cadena = \"{}{} {}\".format(cadena_1, cadena_2, 3) #esas comillas nos dice que es una cadena\n",
        "#nota como Hola ya traía un espacio, así que se lo quité en estos {}\n",
        "\n",
        "print(num_cadena)\n",
        "type(num_cadena)"
      ]
    },
    {
      "cell_type": "markdown",
      "metadata": {},
      "source": [
        "Por medio de la función format, se puede cambiar el orden en que se imprimen las variables:"
      ]
    },
    {
      "cell_type": "code",
      "execution_count": 12,
      "metadata": {
        "trusted": true
      },
      "outputs": [
        {
          "name": "stdout",
          "output_type": "stream",
          "text": [
            "Cambiando el orden: Mundo  3Hola \n"
          ]
        }
      ],
      "source": [
        "\"\"\"Cuando se agrega un número dentro de {}, el valor de la variable que se encuentra \n",
        "en esa posición dentro de la función format(), será impreso.\"\"\"\n",
        "num_cadena = \"Cambiando el orden: {1}  {2}{0}\". format(cadena_1, cadena_2, 3)\n",
        "                                                    #     0         1      2\n",
        "print(num_cadena)"
      ]
    },
    {
      "cell_type": "markdown",
      "metadata": {},
      "source": [
        "<p>Las funciones que están integradas en Python para trabajar con cadenas se pueden ver en el siguiente enlace <a href=\"https://docs.python.org/3/library/stdtypes.html#string-methods\">https://docs.python.org/3/library/stdtypes.html#string-methods</a></p>\n",
        "<hr>"
      ]
    },
    {
      "cell_type": "markdown",
      "metadata": {},
      "source": [
        "**<h4>           Operadores </h4>** Aritméticos: + , - , * , /"
      ]
    },
    {
      "cell_type": "code",
      "execution_count": 13,
      "metadata": {
        "trusted": true
      },
      "outputs": [
        {
          "name": "stdout",
          "output_type": "stream",
          "text": [
            "6\n",
            "18\n",
            "6\n",
            "2.0\n",
            "0\n",
            "7.2\n",
            "4\n"
          ]
        }
      ],
      "source": [
        "#Para el exponente se puede utilizar asterísco\n",
        "print(1 + 5)\n",
        "print(6 * 3) #igual que en c\n",
        "print(10 - 4)\n",
        "print(100 / 50)\n",
        "print(10 % 2) #el módulo se ocupa igual que en c\n",
        "print(((20 * 3) + (10 + 2)) / 10)\n",
        "print(2**2) #Potencia\n",
        "#print(2(3)) #error"
      ]
    },
    {
      "cell_type": "markdown",
      "metadata": {},
      "source": [
        "Booleanos: __and, not, or__"
      ]
    },
    {
      "cell_type": "code",
      "execution_count": 14,
      "metadata": {
        "trusted": true
      },
      "outputs": [
        {
          "data": {
            "text/plain": [
              "False"
            ]
          },
          "execution_count": 14,
          "metadata": {},
          "output_type": "execute_result"
        }
      ],
      "source": [
        "False and True #en C se escribía todo en minúsculas"
      ]
    },
    {
      "cell_type": "markdown",
      "metadata": {},
      "source": [
        "Comparación: __> , < , >= , <= , ==__"
      ]
    },
    {
      "cell_type": "code",
      "execution_count": 14,
      "metadata": {
        "trusted": true
      },
      "outputs": [
        {
          "name": "stdout",
          "output_type": "stream",
          "text": [
            "False\n",
            "True\n",
            "True\n",
            "False\n",
            "True\n"
          ]
        }
      ],
      "source": [
        "print(7 < 5) #False\n",
        "print(7 > 5) #True\n",
        "print((11 * 3) + 2 == 36 - 1) #True\n",
        "print((11 * 3) + 2 >= 36) #False\n",
        "print(\"curso\" != \"CuRsO\") #True"
      ]
    },
    {
      "cell_type": "markdown",
      "metadata": {},
      "source": [
        "Más información sobre tipos de datos y operadores se puede consultar en <a href=\"https://docs.python.org/3/library/stdtypes.html\">https://docs.python.org/3/library/stdtypes.html</a>\n",
        "<hr>"
      ]
    },
    {
      "cell_type": "markdown",
      "metadata": {},
      "source": [
        "<strong><h4>Lista</h4></strong>\n",
        "* <blockquote>           <p>Básicamente son valores que están separados por comas dentro de <code style=\"background:pink; color:blue\">corchetes []</code> (paréntesis cuadrados).</p></blockquote>\n",
        "* <blockquote>Está compuesta por cualquier cantidad y/o tipo de datos, ya sean cadenas, caracteres, números e inclusive otras listas.</p></blockquote>\n",
        "* <blockquote><p>Se puede acceder a las listas por medio de índices, estos índices comienzan desde 0 hasta el número de elementos menos 1.</p></blockquote>\n",
        "* <blockquote><p>Las listas son <mark>mutables</mark>. </p></blockquote>\n"
      ]
    },
    {
      "cell_type": "code",
      "execution_count": 15,
      "metadata": {
        "trusted": true
      },
      "outputs": [
        {
          "name": "stdout",
          "output_type": "stream",
          "text": [
            "[31, 28, 31, 30, 31, 30, 31, 31, 30, 31, 30, 31]\n",
            "31\n",
            "31\n",
            "31\n"
          ]
        }
      ],
      "source": [
        "#Declaración de una lista simple\n",
        "lista_diasDelMes=[31, 28, 31, 30, 31, 30, 31, 31, 30, 31, 30, 31]#nota que las listas van con corchetes\n",
        "        #índice    0   1   2   3   4   5   6   7   8   9  10  11\n",
        "      #elemento    1   2   3   4   5   6   7   8   9  10  11  12  \n",
        "\n",
        "print(lista_diasDelMes) #imprime la lista completa #lo que me sorprende es que imprime los corchetes\n",
        "print(lista_diasDelMes[0]) #imprime elemento 1\n",
        "print(lista_diasDelMes[7]) #imprime elemento 7\n",
        "print(lista_diasDelMes[11]) #imprime elemento 12 \n",
        "#conclusión entre corchetes se pone el índice"
      ]
    },
    {
      "cell_type": "code",
      "execution_count": 16,
      "metadata": {
        "trusted": true
      },
      "outputs": [
        {
          "name": "stdout",
          "output_type": "stream",
          "text": [
            "[['cero', 0], ['uno', 1, 'UNO'], ['dos', 2], ['tres', 3], ['cuatro', 4], ['x', 5]]\n",
            "['cero', 0]\n",
            "['uno', 1, 'UNO']\n",
            "dos\n",
            "2\n",
            "uno\n",
            "1\n",
            "UNO\n"
          ]
        }
      ],
      "source": [
        "#Listas anidadas\n",
        "listaAnidada_aboutNumeros=[['cero', 0], ['uno', 1, 'UNO'], ['dos', 2], ['tres', 3], ['cuatro', 4], ['x', 5]]\n",
        "\n",
        "                #elemento        1              2               3            4             5           6\n",
        "\n",
        "print(listaAnidada_aboutNumeros) #imprime la lista anidada completa #imprime los corchetes\n",
        "\n",
        "print(listaAnidada_aboutNumeros[0]) #imprime todo el elemento 1 de la lista\n",
        "print(listaAnidada_aboutNumeros[1]) #imprime todo el elemento 2 de la lista\n",
        "\n",
        "print(listaAnidada_aboutNumeros[2][0]) #imprime del elemento 3, lo que se encuentre en la pocisión 0\n",
        "print(listaAnidada_aboutNumeros[2][1]) #imprime del elemento 3, lo que se encuentre en la pocisión 1\n",
        "\n",
        "print(listaAnidada_aboutNumeros[1][0]) #imprime del elemento 2, lo que se encuentre en la posición 0\n",
        "print(listaAnidada_aboutNumeros[1][1]) #imprime del elemento 2, lo que se encuentre en la posición 1\n",
        "print(listaAnidada_aboutNumeros[1][2]) #imprime del elemento 2, lo que se encuentre en la posición 2"
      ]
    },
    {
      "cell_type": "code",
      "execution_count": 17,
      "metadata": {
        "trusted": true
      },
      "outputs": [
        {
          "name": "stdout",
          "output_type": "stream",
          "text": [
            "['x', 5]\n",
            "['cinco', 5]\n"
          ]
        }
      ],
      "source": [
        "#Se cambia el valor de uno de los elementos de la lista, por que las listas son MUTABLES\n",
        "print(listaAnidada_aboutNumeros[5]) #antes\n",
        "listaAnidada_aboutNumeros[5][0]=\"cinco\"\n",
        "print(listaAnidada_aboutNumeros[5]) #después"
      ]
    },
    {
      "cell_type": "markdown",
      "metadata": {},
      "source": [
        "Hay otras operaciones que se pueden realizar usando listas, éstas se pueden consultae en <a href=\"https://docs.python.org/3/tutorial/datastructures.html#more-on-lists\">https://docs.python.org/3/tutorial/datastructures.html#more-on-lists</a>\n",
        "<hr>"
      ]
    },
    {
      "cell_type": "markdown",
      "metadata": {},
      "source": [
        "__Tuplas__\n",
        "* <blockquote><p>Son parecidas a las listas, valores separados por una coma.</p></blockquote>\n",
        "* <blockquote><p>Comparadas con las listas, las tuplas <mark>no</mark> son <mark>mutables</mark>.</p></blockquote>\n",
        "* <blockquote><p>Se pueden aplicar las mismas operaciones que en las listas y su ventaja es que consumen <mark>menos memoria</mark> para almacenarse.</p></blockquote>\n",
        "* <blockquote><p>Se crean, ya sea utilizando <code style=\"background:pink;color:blue\">paréntesis ()</code> o simplemente separando los valores por comas.</p></blockquote>"
      ]
    },
    {
      "cell_type": "code",
      "execution_count": 18,
      "metadata": {
        "trusted": true
      },
      "outputs": [
        {
          "name": "stdout",
          "output_type": "stream",
          "text": [
            "(31, 28, 31, 30, 31, 30, 31, 31, 30, 31, 30, 31)\n",
            "31\n",
            "30\n",
            "28\n",
            "(5, 0, 'N', 1, 'A')\n"
          ]
        }
      ],
      "source": [
        "#Declaración de una tupla\n",
        "tupla_diasDelMes=(31, 28, 31, 30, 31, 30, 31, 31, 30, 31, 30, 31) #nota como son paréntesis\n",
        "        #índice    0   1   2   3   4   5   6   7   8   9  10  11\n",
        "      #elemento    1   2   3   4   5   6   7   8   9  10  11  12  \n",
        "\n",
        "print(tupla_diasDelMes) #imprime la tupla completa #imprime los paréntesis\n",
        "print(tupla_diasDelMes[0]) #imprimir elemento 1\n",
        "print(tupla_diasDelMes[3]) #imprimir elemento 4\n",
        "print(tupla_diasDelMes[1]) #imprimir elemento 2\n",
        "\n",
        "diferentFormaDeTupla=5,0,'N',1,'A' #:o\n",
        "print(diferentFormaDeTupla)"
      ]
    },
    {
      "cell_type": "code",
      "execution_count": 19,
      "metadata": {
        "trusted": true
      },
      "outputs": [
        {
          "name": "stdout",
          "output_type": "stream",
          "text": [
            "(('cero', 0), ('uno', 1, 'UNO'), ('dos', 2), ('tres', 3), ('cuatro', 4), ('x', 5))\n",
            "('cero', 0)\n",
            "('uno', 1, 'UNO')\n",
            "dos\n",
            "2\n",
            "uno\n",
            "1\n",
            "UNO\n"
          ]
        }
      ],
      "source": [
        "#Declaración de tuplas anidadas\n",
        "tuplaAnidada_aboutNumeros=(('cero', 0), ('uno', 1, 'UNO'), ('dos', 2), ('tres', 3), ('cuatro', 4), ('x', 5))\n",
        "\n",
        "               #posición      [0]  [1]    [0]   [1]  [2]     [0]  [1]     [0]  [1]      [0]   [1]   [0] [1]\n",
        "                #elemento        1              2               3            4              5          6\n",
        " #índice pero del elemento       0              1               2            3              4          5\n",
        "\n",
        "print(tuplaAnidada_aboutNumeros) #imprime toda la tupla anidada\n",
        "\n",
        "print(tuplaAnidada_aboutNumeros[0]) #imprie el elemento 1 de la tupla anidada\n",
        "print(tuplaAnidada_aboutNumeros[1]) #imprime el elemento 2 \n",
        "\n",
        "print(tuplaAnidada_aboutNumeros[2][0]) #imprime del tercer elemento la posición 0\n",
        "print(tuplaAnidada_aboutNumeros[2][1]) #imprime del tercer elemento la posición 1\n",
        "\n",
        "print(tuplaAnidada_aboutNumeros[1][0])\n",
        "print(tuplaAnidada_aboutNumeros[1][1])\n",
        "print(tuplaAnidada_aboutNumeros[1][2])"
      ]
    },
    {
      "cell_type": "code",
      "execution_count": 20,
      "metadata": {
        "trusted": true
      },
      "outputs": [
        {
          "name": "stdout",
          "output_type": "stream",
          "text": [
            "valor actual 31\n",
            "valor cambiado 50\n",
            "valor cambiado 50\n"
          ]
        }
      ],
      "source": [
        "#probando la mutabilidad de las listas \n",
        "print(\"valor actual {}\".format(lista_diasDelMes[0])) #creo que el .format() se utiliza siempre a la derceha de {}\n",
        "lista_diasDelMes[0]=50\n",
        "print(\"valor cambiado {}\".format(lista_diasDelMes[0])) #comillas dobles\n",
        "print('valor cambiado {}'.format(lista_diasDelMes[0])) #comillas simples"
      ]
    },
    {
      "cell_type": "code",
      "execution_count": 21,
      "metadata": {
        "trusted": true
      },
      "outputs": [
        {
          "ename": "TypeError",
          "evalue": "'tuple' object does not support item assignment",
          "output_type": "error",
          "traceback": [
            "\u001b[0;31m---------------------------------------------------------------------------\u001b[0m",
            "\u001b[0;31mTypeError\u001b[0m                                 Traceback (most recent call last)",
            "Cell \u001b[0;32mIn[21], line 2\u001b[0m\n\u001b[1;32m      1\u001b[0m \u001b[39m#probando la no mutabilidad de las tuplas\u001b[39;00m\n\u001b[0;32m----> 2\u001b[0m tupla_diasDelMes[\u001b[39m0\u001b[39;49m]\u001b[39m=\u001b[39m\u001b[39m50\u001b[39m \u001b[39m#Error\u001b[39;00m\n",
            "\u001b[0;31mTypeError\u001b[0m: 'tuple' object does not support item assignment"
          ]
        }
      ],
      "source": [
        "#probando la no mutabilidad de las tuplas\n",
        "tupla_diasDelMes[0]=50 #Error"
      ]
    },
    {
      "cell_type": "markdown",
      "metadata": {},
      "source": [
        "<strong>Tupla con nombre</strong>\n",
        "<p>En comparación con las tuplas anteriores, este tipo especial de tuplas permite específicar un nombre para describirla.</p>"
      ]
    },
    {
      "cell_type": "code",
      "execution_count": 22,
      "metadata": {
        "trusted": true
      },
      "outputs": [
        {
          "name": "stdout",
          "output_type": "stream",
          "text": [
            "planeta(nombre='Mercurio', numero=1)\n",
            "Mercurio 2\n",
            "Mercurio 2\n",
            "Campos de la tupla: ('nombre', 'numero')\n"
          ]
        }
      ],
      "source": [
        "#Se debe importar la librería para hacer uso de namedtuple\n",
        "from collections import namedtuple\n",
        "\n",
        "#se crea la tupla con nombre\n",
        "#El primer argumento es el nombre de la tupla, mientras que el segundo argumento son los campos\n",
        "#p es la referencia a la tupla\n",
        "planeta = namedtuple('planeta', ['nombre', 'numero']) #en mi opinión, es como una tupla general\n",
        "      #            |_______| |__________________|\n",
        "      #argumentos:     1°             2°\n",
        "\n",
        "#se crea el planeta 1\n",
        "planeta1 = planeta('Mercurio', 1) #se agregan a la tupla los valores correspondientes a los campos\n",
        "print(planeta1) #se me hace curioso que imprime las comillas sensillas\n",
        "\n",
        "#se crea el planeta 2\n",
        "planeta2 = planeta('Venus', 2)\n",
        "\n",
        "#Se imprimen los campos\n",
        "#Usando la referencia se llama a cada uno de sus campos\n",
        "print(planeta1.nombre, planeta2.numero) \n",
        "#Se optienen los valores por el orden de los campos\n",
        "print(planeta1[0], planeta2[1])\n",
        "\n",
        "print('Campos de la tupla: {}'.format(planeta1._fields))"
      ]
    },
    {
      "cell_type": "markdown",
      "metadata": {},
      "source": [
        "<br></br>\n",
        "<strong><h4>Diccionarios</h4></strong>\n",
        "<ul><blockquote><p>Un diccionario se crea usando <code style=\"background:pink;color:blue\">llaves {}</code> y consta de dos partes: llave y valor</p></blockquote></ul>\n",
        "<ul><blockquote><p>Las llaves son <mark>inmutables</mark>, deben de tener un solo tipo de dato, una cadena o un número. Una vez que es creado, no se puede cambiar su tipo.</p></blockquote></ul>\n",
        "<ul><blockquote><p>Mientras que el valor puede ser de cualquier tipo y se puede cambiar con el tiempo.</p></blockquote></ul>\n",
        "<ul><blockquote><p>Los elementos en un diccionario no están ordenados.</p></blockquote></ul>\n",
        "\n",
        "<p>Más información sobre diccionarios en: <a href=\"https://docs.python.org/3/tutorial/datastructures.html#dictionaries\">https://docs.python.org/3/tutorial/datastructures.html#dictionaries</a></p>"
      ]
    },
    {
      "cell_type": "code",
      "execution_count": 23,
      "metadata": {
        "trusted": true
      },
      "outputs": [
        {
          "name": "stdout",
          "output_type": "stream",
          "text": [
            "{'hidrogeno': 1, 'helio': 2, 'carbon': 6}\n",
            "6\n"
          ]
        }
      ],
      "source": [
        "#Creando un diccionario\n",
        "elementos = {'hidrogeno': 1, 'helio': 2, 'carbon': 6} #date cuenta que son llaves\n",
        "#siempre 'Característica_o_Nombre': valorDeCualquierTipo\n",
        "\n",
        "#al momento de la impresión, pueden aparecer en diferente orden del introducido\n",
        "print(elementos)\n",
        "\n",
        "print(elementos['carbon'])"
      ]
    },
    {
      "cell_type": "code",
      "execution_count": 24,
      "metadata": {
        "trusted": true
      },
      "outputs": [
        {
          "name": "stdout",
          "output_type": "stream",
          "text": [
            "{'hidrogeno': 1, 'helio': 2, 'carbon': 6, 'litio': 3, 'nitrogeno': 8}\n"
          ]
        }
      ],
      "source": [
        "#Se pueden agregar elementos al diccionario\n",
        "elementos['litio'] = 3\n",
        "elementos['nitrogeno'] = 8\n",
        "\n",
        "print(elementos) #imprimiendo todos los elementos, nótese que los elementos no están ordenados (en cuanto a :número)"
      ]
    },
    {
      "cell_type": "code",
      "execution_count": 25,
      "metadata": {
        "trusted": true
      },
      "outputs": [
        {
          "name": "stdout",
          "output_type": "stream",
          "text": [
            "{'H': {'name': 'Hydrogen', 'number': 1, 'weight': 1.00794}, 'He': {'name': 'Helium', 'number': 2, 'weight': 4.002602}}\n"
          ]
        }
      ],
      "source": [
        "#creando un nuevo diccionario\n",
        "elements2={} #tons no hace falta inicializarlo? bueno decir qué lleva?\n",
        "elements2['H'] = {'name': 'Hydrogen', 'number': 1, 'weight': 1.00794} #que curioso aparte de diccionario={}, se puede diccionario[]={}\n",
        "elements2['He'] = {'name': 'Helium', 'number': 2, 'weight': 4.002602}\n",
        "\n",
        "print(elements2)\n",
        "\n",
        "#manzana={manzana['feature']={'color': 'rojo'}} error"
      ]
    },
    {
      "cell_type": "code",
      "execution_count": 26,
      "metadata": {
        "trusted": true
      },
      "outputs": [
        {
          "name": "stdout",
          "output_type": "stream",
          "text": [
            "{'name': 'Hydrogen', 'number': 1, 'weight': 1.00794}\n",
            "Hydrogen\n",
            "1\n",
            "4.3\n",
            "{'name': 'Hydrogen', 'number': 1, 'weight': 4.3}\n",
            "{'H': {'name': 'Hydrogen', 'number': 1, 'weight': 4.3}, 'He': {'name': 'Helium', 'number': 2, 'weight': 4.002602}}\n",
            "{'name': 'Hydrogen', 'number': 1, 'weight': 4}\n",
            "{'H': {'name': 'Hydrogen', 'number': 1, 'weight': 4}, 'He': {'name': 'Helium', 'number': 2, 'weight': 4.002602}}\n"
          ]
        }
      ],
      "source": [
        "#Imprimiendo los datos de un elemento del diccionario\n",
        "print(elements2['H'])\n",
        "print(elements2['H']['name'])\n",
        "print(elements2['H']['number'])\n",
        "\n",
        "elements2['H']['weight'] = 4.30 #cambiando el valor de un elemento, recuerda que ['H'] no es un elementos, es un como que nombre\n",
        "print(elements2['H']['weight'])\n",
        "print(elements2['H']) \n",
        "print(elements2) #imprime a 'H' y 'He'\n",
        "\n",
        "elements2['H']['weight'] = 4 #de flotante a entero\n",
        "print(elements2['H'])\n",
        "print(elements2) "
      ]
    },
    {
      "cell_type": "code",
      "execution_count": 27,
      "metadata": {
        "trusted": true
      },
      "outputs": [
        {
          "name": "stdout",
          "output_type": "stream",
          "text": [
            "{'name': 'Hydrogen', 'number': 1, 'weight': 4, 'gas boble': True}\n"
          ]
        }
      ],
      "source": [
        "#Agregando elementos a una llave\n",
        "elements2['H'].update({'gas boble': True})\n",
        "print(elements2['H'])"
      ]
    },
    {
      "cell_type": "code",
      "execution_count": 28,
      "metadata": {
        "trusted": true
      },
      "outputs": [
        {
          "name": "stdout",
          "output_type": "stream",
          "text": [
            "dict_items([('H', {'name': 'Hydrogen', 'number': 1, 'weight': 4, 'gas boble': True}), ('He', {'name': 'Helium', 'number': 2, 'weight': 4.002602})])\n",
            "dict_keys(['H', 'He'])\n"
          ]
        }
      ],
      "source": [
        "#Muestra todos los items del diccionario\n",
        "print(elements2.items())\n",
        "\n",
        "#Muestra todas las llaves, del diccionario, es decir estas {}\n",
        "print(elements2.keys())"
      ]
    },
    {
      "cell_type": "markdown",
      "metadata": {},
      "source": [
        "<strong><h4>Funciones</h4></strong>\n",
        "* <blockquote><p>Una función o procedimiento sirve para empaquetar código que sirve para ser reutilizado.</p></blockquote>\n",
        "* <blockquote><p>Se puede usar ese mismo código con diferentes entradas y obtener resultados o comportamiento de acuerdo con esos datos.</p></blockquote>"
      ]
    },
    {
      "cell_type": "code",
      "execution_count": 29,
      "metadata": {
        "trusted": true
      },
      "outputs": [
        {
          "name": "stdout",
          "output_type": "stream",
          "text": [
            "Hola Isabel\n"
          ]
        }
      ],
      "source": [
        "#Las funciones pueden recibir n número de parámetros, no se necesita indicar el tipo\n",
        "def imprime_nombre(nombre):\n",
        "    print(\"Hola \" + nombre) #las cadenas se pueden concatenar con el +\n",
        "\n",
        "imprime_nombre(\"Isabel\")#recuerda que la cuenta idéntación, recuerda que no hay un main"
      ]
    },
    {
      "cell_type": "code",
      "execution_count": 30,
      "metadata": {
        "trusted": true
      },
      "outputs": [
        {
          "name": "stdout",
          "output_type": "stream",
          "text": [
            "El cuadrado de 5 es 25\n",
            "El cuadrado de 5 es 25\n"
          ]
        }
      ],
      "source": [
        "#Definiendo una función que regresa el cuadrado de un número\n",
        "def cuadrado(y): #las variables las puedes recibir con el nombre que quieras\n",
        "    return y**2 #esta variable no se puede ocupar fuera de esta función\n",
        "\n",
        "x=5 #es global?\n",
        "#la función format() sirve para convertir los parámetros que recibe, en cadenas\n",
        "print(\"El cuadrado de {} es {}\".format(x, cuadrado(x))) #la función se mandó a llamar adentro de un format\n",
        "\n",
        "print(\"El cuadrado de {1} es {0}\".format(cuadrado(x), x)) #experimentando un poco con lo aprendido\n",
        "#print(y) error, esta variabl es local de una función"
      ]
    },
    {
      "cell_type": "code",
      "execution_count": 31,
      "metadata": {
        "trusted": true
      },
      "outputs": [
        {
          "name": "stdout",
          "output_type": "stream",
          "text": [
            "4 8 16\n",
            "4816\n"
          ]
        }
      ],
      "source": [
        "#Definiendo una función que regresa más de un valor #eso no se podía en c\n",
        "def varios(x):\n",
        "    return x**2, x**3, x**4\n",
        "\n",
        "#los valores que regresa la función pueden ser guardado en variables separadas por coma\n",
        "val1, val2, val3=varios(2)\n",
        "print(\"{} {} {}\".format(val1, val2, val3))\n",
        "print(\"{1}{2}{0}\".format(val3, val1, val2))#lo pongo pa' no olvidarlo"
      ]
    },
    {
      "cell_type": "code",
      "execution_count": 32,
      "metadata": {
        "trusted": true
      },
      "outputs": [
        {
          "data": {
            "text/plain": [
              "9"
            ]
          },
          "execution_count": 32,
          "metadata": {},
          "output_type": "execute_result"
        }
      ],
      "source": [
        "#Función con un parámetro con un valor por defecto\n",
        "def cuadrado_default(x=3): #tons en las funciones se puede declarar e inicializar una variable\n",
        "    return x**2\n",
        "\n",
        "#así se manda a llamar\n",
        "cuadrado_default()"
      ]
    },
    {
      "cell_type": "markdown",
      "metadata": {},
      "source": [
        "<strong><p>Idiom:</strong> Cuando una función regresa más de un valor, se puede usar el operador '_', para no guardar un valor deseado.</p>"
      ]
    },
    {
      "cell_type": "code",
      "execution_count": 33,
      "metadata": {
        "trusted": true
      },
      "outputs": [
        {
          "name": "stdout",
          "output_type": "stream",
          "text": [
            "4 16\n"
          ]
        }
      ],
      "source": [
        "#La función regresa tres, valores, pero sólo nos interesa el primero y el tercero\n",
        "val4, _, val5= varios(2) #las podemos recibir con los nombresque quieras\n",
        "print(\"{} {}\".format(val4, val5))"
      ]
    },
    {
      "cell_type": "markdown",
      "metadata": {},
      "source": [
        "<hr></hr>\n",
        "<b><h4>Variables globales</h4></b>\n",
        "<p>Se puede decir que el ambiente de ejecución es donde se efectúan las operaciones que componen un programa. Al momento de ejecutar un programa se crea un espacio de nombres para las variables. Hay dos tipos se espacio de <i>nombres</i>, el primero es el espacio global y el segundo el espacio local. Las variables que se declaren afuera de las funciones pertenecen al espacio global y no se necesita añadir un modificador para declararlas de esta manera. Por otro lado, todas las variables que se definen dentro de una función pertenecen al espacio local, estas variables sólo pueden ser reconocidas y usadas dentro de la propia función.</p>"
      ]
    },
    {
      "cell_type": "code",
      "execution_count": 34,
      "metadata": {
        "trusted": true
      },
      "outputs": [
        {
          "name": "stdout",
          "output_type": "stream",
          "text": [
            "Globalmente Famoso\n",
            "Globalmente Famoso\n"
          ]
        }
      ],
      "source": [
        "#Se crea una variable en el espacio global de nombres\n",
        "variable = 'Globalmente Famoso'\n",
        "\n",
        "#se crea una función que imprime la variabe global\n",
        "def funcion_1():\n",
        "    print(variable)\n",
        "\n",
        "#llamada a la función que imprime la variable global\n",
        "funcion_1()\n",
        "\n",
        "#imprime la variable global\n",
        "print(variable)"
      ]
    },
    {
      "cell_type": "code",
      "execution_count": 35,
      "metadata": {
        "trusted": true
      },
      "outputs": [
        {
          "name": "stdout",
          "output_type": "stream",
          "text": [
            "Soy local\n",
            "Globalmente Famoso\n"
          ]
        }
      ],
      "source": [
        "#Se crea una variable local que tiene el mismo nombre que la variable global\n",
        "def funcion_2():\n",
        "    variable = \"Soy local\" #usando las comillas dobles\n",
        "    print(variable)\n",
        "\n",
        "#se manda a llamar a la función\n",
        "funcion_2() #imprime la variable local de la función\n",
        "\n",
        "#imprime la variable global\n",
        "print(variable)"
      ]
    },
    {
      "cell_type": "code",
      "execution_count": 36,
      "metadata": {
        "trusted": true
      },
      "outputs": [
        {
          "ename": "UnboundLocalError",
          "evalue": "cannot access local variable 'variable' where it is not associated with a value",
          "output_type": "error",
          "traceback": [
            "\u001b[0;31m---------------------------------------------------------------------------\u001b[0m",
            "\u001b[0;31mUnboundLocalError\u001b[0m                         Traceback (most recent call last)",
            "Cell \u001b[0;32mIn[36], line 11\u001b[0m\n\u001b[1;32m      7\u001b[0m     \u001b[39mprint\u001b[39m(variable)\n\u001b[1;32m     10\u001b[0m \u001b[39m#en cambio si te deja hacer esto si borras la línea variable=\"Localmente\"\u001b[39;00m\n\u001b[0;32m---> 11\u001b[0m funcion_3()\n\u001b[1;32m     12\u001b[0m \u001b[39mprint\u001b[39m(variable)\n\u001b[1;32m     13\u001b[0m variable\u001b[39m=\u001b[39m\u001b[39m\"\u001b[39m\u001b[39mLocalmente\u001b[39m\u001b[39m\"\u001b[39m \n",
            "Cell \u001b[0;32mIn[36], line 5\u001b[0m, in \u001b[0;36mfuncion_3\u001b[0;34m()\u001b[0m\n\u001b[1;32m      4\u001b[0m \u001b[39mdef\u001b[39;00m \u001b[39mfuncion_3\u001b[39m():\n\u001b[0;32m----> 5\u001b[0m     \u001b[39mprint\u001b[39m(variable)\n\u001b[1;32m      6\u001b[0m     variable\u001b[39m=\u001b[39m\u001b[39m\"\u001b[39m\u001b[39mLocalmente\u001b[39m\u001b[39m\"\u001b[39m \u001b[39m#no solo se intenta crear la variable local, desde otro pov se intenta modificar la variable global\u001b[39;00m\n\u001b[1;32m      7\u001b[0m     \u001b[39mprint\u001b[39m(variable)\n",
            "\u001b[0;31mUnboundLocalError\u001b[0m: cannot access local variable 'variable' where it is not associated with a value"
          ]
        }
      ],
      "source": [
        "\"\"\"Se trata de imprimir el valor de la variable global, a diferencia de la funcion_1(),\n",
        "se creó en el espacio local de la funcion_3() una variabl con el mismo nombre,\n",
        "por lo que se reemplaza la variable global\"\"\"\n",
        "def funcion_3():\n",
        "    print(variable)\n",
        "    variable=\"Localmente\" #no solo se intenta crear la variable local, desde otro pov se intenta modificar la variable global\n",
        "    print(variable)\n",
        "\n",
        "\n",
        "#en cambio si te deja hacer esto si borras la línea variable=\"Localmente\"\n",
        "funcion_3()\n",
        "print(variable)\n",
        "variable=\"Localmente\" \n",
        "print(variable)\n"
      ]
    },
    {
      "cell_type": "code",
      "execution_count": 37,
      "metadata": {
        "trusted": true
      },
      "outputs": [
        {
          "name": "stdout",
          "output_type": "stream",
          "text": [
            "Globalmente Famoso\n",
            "Local\n",
            "Local\n"
          ]
        }
      ],
      "source": [
        "\"\"\"Para resolver el problema anterior y específicar qué se requiere hacer uso \n",
        "de la variable global dentro de la función funcion_4(), se requiere agregar\n",
        "la palabra reservada global\"\"\"\n",
        "\n",
        "def funcion_4():\n",
        "    global variable\n",
        "    print(variable) #se imprime la variable global con su valor 'Globalmente famoso'\n",
        "    variable=\"Local\" #se modifica el valor de la variable global\n",
        "    print(variable) #imprime su nuevo valor\n",
        "\n",
        "\"\"\"al momento de ejecutar la función se imprime el valor que tenía asignado\n",
        " la variable variable antes de ser modificada por la función. Después de asignar el valor,\n",
        " éste es impreso\"\"\"\n",
        "\n",
        "funcion_4()\n",
        "\n",
        "#se imprime la variable global con su valor modificado\n",
        "print(variable)#imprime su nuevo valor"
      ]
    },
    {
      "cell_type": "markdown",
      "metadata": {},
      "source": [
        "<strong><p>NOTA:</strong> El manejo de variables globales dentro de una función en el lenguaje Python se considera como una mala práctica, se recomienda que se pase como parámetro a la función y que regrese un valor.</p>\n",
        "<hr>"
      ]
    },
    {
      "cell_type": "markdown",
      "metadata": {},
      "source": [
        "<strong><h4>Estructuras de control selectivas</h4></strong>\n",
        "<p><code style=\"color:blue\">if</code></p>\n",
        "<p>La declaración <em>if</em> sirve para ejecutar código dependiendo del resultado de una condición.</p>"
      ]
    },
    {
      "cell_type": "code",
      "execution_count": 38,
      "metadata": {
        "trusted": true
      },
      "outputs": [
        {
          "name": "stdout",
          "output_type": "stream",
          "text": [
            "7 es mayor que 5\n"
          ]
        }
      ],
      "source": [
        "def obtenerMayor(param1, param2):\n",
        "    if param1 < param2:\n",
        "        print('{} es mayor que {}'.format(param2, param1))\n",
        "\n",
        "obtenerMayor(5, 7)\n",
        "\n",
        "obtenerMayor(7, 5) #No imprime nada"
      ]
    },
    {
      "cell_type": "markdown",
      "metadata": {},
      "source": [
        "<p>Se puede encadenar más de una condición sin tener que agregar un operador booleano.</p>"
      ]
    },
    {
      "cell_type": "code",
      "execution_count": 39,
      "metadata": {
        "trusted": true
      },
      "outputs": [
        {
          "name": "stdout",
          "output_type": "stream",
          "text": [
            "True\n"
          ]
        }
      ],
      "source": [
        "x = y = z = 3\n",
        "if x == y == z: #esto es nuevo\n",
        "    print(True)"
      ]
    },
    {
      "cell_type": "markdown",
      "metadata": {},
      "source": [
        "<p><code style=\"color:blue\">if-elif-else</code> <br></br>\n",
        "Este tipo de delcaraciones se usan para dar una opción en ele caso de que la condición no se cumpla.</p>"
      ]
    },
    {
      "cell_type": "code",
      "execution_count": 40,
      "metadata": {
        "trusted": true
      },
      "outputs": [
        {
          "name": "stdout",
          "output_type": "stream",
          "text": [
            "El mayor es 20\n",
            "El mayor es 11\n"
          ]
        }
      ],
      "source": [
        "def obtenerMayor2(param1, param2):\n",
        "    if param1 < param2:\n",
        "        return param2\n",
        "    else:\n",
        "        return param1\n",
        "\n",
        "print(\"El mayor es {}\".format(obtenerMayor2(20, 4)))\n",
        "\n",
        "print(\"El mayor es {}\".format(obtenerMayor2(11, 6)))"
      ]
    },
    {
      "cell_type": "markdown",
      "metadata": {},
      "source": [
        "<p>Para comparaciones simples, Pytho no tiene un <mark>operador ternario</mark> (x ? True:False), pero se puede emular con if-else</p>"
      ]
    },
    {
      "cell_type": "code",
      "execution_count": 41,
      "metadata": {
        "trusted": true
      },
      "outputs": [
        {
          "name": "stdout",
          "output_type": "stream",
          "text": [
            "El mayor es 11\n"
          ]
        }
      ],
      "source": [
        "def obtenerMayor_idiom(param1, param2):\n",
        "    \"\"\"La variable valor va a tener el valor de param2 si el if es verdadero\n",
        "    de lo contrario tendra el valor param1\n",
        "    nota: debe regresar el mayor\"\"\"\n",
        "    valor = param2 if (param1 < param2) else param1\n",
        "    return valor\n",
        "print(\"El mayor es {}\".format(obtenerMayor_idiom(11, 4)))"
      ]
    },
    {
      "cell_type": "markdown",
      "metadata": {},
      "source": [
        "<code style=\"color:blue\">if-elif-else</code>\n",
        "<p>Este tipo de declaraciones sirve para generar varios casos de prueba. En otros lenguajes es similar a case o switch.</p>"
      ]
    },
    {
      "cell_type": "code",
      "execution_count": 42,
      "metadata": {
        "trusted": true
      },
      "outputs": [
        {
          "name": "stdout",
          "output_type": "stream",
          "text": [
            "el número es 2\n",
            "no hay opción\n"
          ]
        }
      ],
      "source": [
        "def numeros (num):\n",
        "    if num==1:\n",
        "        print(\"Tu número es 1\")\n",
        "    elif num==2:\n",
        "        print(\"el número es 2\")\n",
        "    elif num==2:\n",
        "        print(\"el número es 3\")\n",
        "    elif num==3:\n",
        "        print(\"el número es 4\")\n",
        "    else: #este es como el default\n",
        "        print(\"no hay opción\")\n",
        "\n",
        "numeros(2)\n",
        "numeros(5)"
      ]
    },
    {
      "cell_type": "markdown",
      "metadata": {},
      "source": [
        "<p>En algunos casos se puede evitar la repeticion de código del if-elif-else de la siguiente manera:</p>"
      ]
    },
    {
      "cell_type": "code",
      "execution_count": 43,
      "metadata": {
        "trusted": true
      },
      "outputs": [
        {
          "name": "stdout",
          "output_type": "stream",
          "text": [
            "tu numero es 2\n",
            "5 no es una opcion\n"
          ]
        }
      ],
      "source": [
        "def numeros_idiom(num):\n",
        "    #la tupla tiene las posiciones válidas\n",
        "    if num in (1, 2, 3, 4): #que curioso usamos la funcion in\n",
        "        print(\"tu numero es {}\".format(num))\n",
        "    else:\n",
        "        print(\"{} no es una opcion\".format(num))\n",
        "\n",
        "numeros_idiom(2)\n",
        "\n",
        "numeros_idiom(5)"
      ]
    },
    {
      "cell_type": "markdown",
      "metadata": {},
      "source": [
        "<p>Estructura de control selectiva anidada</p>"
      ]
    },
    {
      "cell_type": "code",
      "execution_count": 44,
      "metadata": {
        "trusted": true
      },
      "outputs": [
        {
          "name": "stdout",
          "output_type": "stream",
          "text": [
            "El más grande es 13\n"
          ]
        }
      ],
      "source": [
        "def obtenerMasGrande(a, b, c):\n",
        "    if a > b:\n",
        "        if a > c:\n",
        "            return a\n",
        "        else:\n",
        "            return c\n",
        "    else:\n",
        "        if b > c:\n",
        "            return b\n",
        "        else:\n",
        "            return c\n",
        "\n",
        "print(\"El más grande es {}\".format(obtenerMasGrande(7, 13, 3)))"
      ]
    },
    {
      "cell_type": "markdown",
      "metadata": {},
      "source": [
        "<hr></hr>\n",
        "<strong><h4>Estructuras de control repetitivas</h4></strong>\n",
        "<p><code style=\"color:blue\">Ciclo while</code></p>\n",
        "<p>Un cinclo es la manera de ejecutar una o varias acciones repetidamente. A diferencia de las estructuras if o if-else que sólo se ejecutan una vez. Para qye el ciclo se ejecute, la <mark>condición</mark> siempre tiene que ser <mark>verdadera</mark>.</p>"
      ]
    },
    {
      "cell_type": "code",
      "execution_count": 45,
      "metadata": {
        "trusted": true
      },
      "outputs": [
        {
          "name": "stdout",
          "output_type": "stream",
          "text": [
            "10\n",
            "9\n",
            "8\n",
            "7\n",
            "6\n",
            "5\n",
            "4\n",
            "3\n",
            "2\n",
            "1\n"
          ]
        }
      ],
      "source": [
        "#Ejemplo 1\n",
        "def cuenta(limite):\n",
        "    i = limite\n",
        "    while True: #cilco infinito\n",
        "        print(i)\n",
        "        i=i-1\n",
        "        if i == 0:\n",
        "            break #rompiendo el ciclo\n",
        "\n",
        "cuenta(10)"
      ]
    },
    {
      "cell_type": "code",
      "execution_count": 46,
      "metadata": {
        "trusted": true
      },
      "outputs": [
        {
          "name": "stdout",
          "output_type": "stream",
          "text": [
            "Hola\n",
            "Hola\n",
            "Hola\n",
            "24\n",
            "Hola\n",
            "Hola\n",
            "Hola\n",
            "Hola\n",
            "120\n"
          ]
        }
      ],
      "source": [
        "#Ejemplo 2\n",
        "def factorial(n):\n",
        "    i = 2\n",
        "    temp = 1 \n",
        "    while i < n + 1:\n",
        "        print(\"Hola\")\n",
        "        temp = temp * i\n",
        "        i = i + 1\n",
        "    return temp\n",
        "\n",
        "print(factorial(4))\n",
        "print(factorial(5))"
      ]
    },
    {
      "cell_type": "markdown",
      "metadata": {},
      "source": [
        "<p><code style=\"color:blue\">Ciclo for</code></p>\n",
        "<p>Este ciclo es el más común usado en Python, se utiliza generalmente para hacer iteraciones en una lista, diccionarios y arreglos.</p><br>\n",
        "</br<p><b>Iteración en listas</b><p>"
      ]
    },
    {
      "cell_type": "code",
      "execution_count": 47,
      "metadata": {
        "trusted": true
      },
      "outputs": [
        {
          "name": "stdout",
          "output_type": "stream",
          "text": [
            "1\n",
            "2\n",
            "3\n",
            "4\n",
            "5\n"
          ]
        }
      ],
      "source": [
        "for x in (1, 2, 3, 4, 5):\n",
        "    print(x)"
      ]
    },
    {
      "cell_type": "code",
      "execution_count": 48,
      "metadata": {
        "trusted": true
      },
      "outputs": [
        {
          "name": "stdout",
          "output_type": "stream",
          "text": [
            "2\n",
            "20\n",
            "55\n",
            "19\n",
            "56\n"
          ]
        }
      ],
      "source": [
        "for x in (2, 20, 55, 19, 56):\n",
        "    print(x)"
      ]
    },
    {
      "cell_type": "code",
      "execution_count": 49,
      "metadata": {
        "trusted": true
      },
      "outputs": [
        {
          "name": "stdout",
          "output_type": "stream",
          "text": [
            "0\n",
            "1\n",
            "2\n",
            "3\n",
            "4\n"
          ]
        }
      ],
      "source": [
        "#la funcion reange() sirve para ____ una lista\n",
        "for x in range(5): #creo que dice que este caso es equivalente a range(0, 5)\n",
        "    print(x)"
      ]
    },
    {
      "cell_type": "code",
      "execution_count": 50,
      "metadata": {
        "trusted": true
      },
      "outputs": [
        {
          "name": "stdout",
          "output_type": "stream",
          "text": [
            "-5\n",
            "-4\n",
            "-3\n",
            "-2\n",
            "-1\n",
            "0\n",
            "1\n"
          ]
        }
      ],
      "source": [
        "#Tambipen se puede inicializar desde números negativos\n",
        "for x in range(-5, 2):\n",
        "    print(x)"
      ]
    },
    {
      "cell_type": "code",
      "execution_count": 51,
      "metadata": {
        "trusted": true
      },
      "outputs": [
        {
          "name": "stdout",
          "output_type": "stream",
          "text": [
            "uno\n",
            "dos\n",
            "tres\n",
            "cuatro\n"
          ]
        }
      ],
      "source": [
        "for num in (\"uno\", \"dos\", \"tres\", \"cuatro\"):\n",
        "    print(num)"
      ]
    },
    {
      "cell_type": "code",
      "execution_count": 52,
      "metadata": {
        "trusted": true
      },
      "outputs": [
        {
          "name": "stdout",
          "output_type": "stream",
          "text": [
            "adiós\n",
            "tardes\n",
            "hola\n",
            "mañana\n"
          ]
        }
      ],
      "source": [
        "for num in (\"adiós\", \"tardes\", \"hola\", \"mañana\"):\n",
        "    print(num)"
      ]
    },
    {
      "cell_type": "code",
      "execution_count": 53,
      "metadata": {
        "trusted": true
      },
      "outputs": [
        {
          "name": "stdout",
          "output_type": "stream",
          "text": [
            "a\n",
            "d\n",
            "i\n",
            "ó\n",
            "s\n"
          ]
        }
      ],
      "source": [
        "#cuando solo es una cadena\n",
        "for num in ('adiós'): \n",
        "    print(num)"
      ]
    },
    {
      "cell_type": "code",
      "execution_count": 55,
      "metadata": {
        "trusted": true
      },
      "outputs": [
        {
          "name": "stdout",
          "output_type": "stream",
          "text": [
            "a\n",
            "d\n",
            "i\n",
            "ó\n",
            "s\n"
          ]
        }
      ],
      "source": [
        "for num in (\"adiós\"):\n",
        "    print(num)"
      ]
    },
    {
      "cell_type": "markdown",
      "metadata": {},
      "source": [
        "<b><p>Iteración en diccionarios</p></b>"
      ]
    },
    {
      "cell_type": "code",
      "execution_count": 54,
      "metadata": {
        "trusted": true
      },
      "outputs": [],
      "source": [
        "#Creando un diccionario\n",
        "elementosQ = {'hidrógeno': 1, 'helio': 2, 'carbon': 6}"
      ]
    },
    {
      "cell_type": "code",
      "execution_count": 55,
      "metadata": {
        "trusted": true
      },
      "outputs": [
        {
          "name": "stdout",
          "output_type": "stream",
          "text": [
            "hidrógeno - 1\n",
            "helio - 2\n",
            "carbon - 6\n"
          ]
        }
      ],
      "source": [
        "for llavesota, valorsote in elementosQ.items():\n",
        "    print(llavesota, \"-\", valorsote)#a mi siempre me los imprime en orden, en la práctica este ejemplo no lo imprime en orden"
      ]
    },
    {
      "cell_type": "code",
      "execution_count": 56,
      "metadata": {
        "trusted": true
      },
      "outputs": [
        {
          "name": "stdout",
          "output_type": "stream",
          "text": [
            "hidrógeno\n",
            "helio\n",
            "carbon\n"
          ]
        }
      ],
      "source": [
        "#Obtieniendo sólo las llaves\n",
        "for llavesita in elementosQ.keys():\n",
        "    print(llavesita)"
      ]
    },
    {
      "cell_type": "code",
      "execution_count": 57,
      "metadata": {
        "trusted": true
      },
      "outputs": [
        {
          "name": "stdout",
          "output_type": "stream",
          "text": [
            "1\n",
            "2\n",
            "6\n"
          ]
        }
      ],
      "source": [
        "#Obtieniendo sólo los valores\n",
        "for valorsito in elementosQ.values():\n",
        "    print(valorsito)"
      ]
    },
    {
      "cell_type": "markdown",
      "metadata": {},
      "source": [
        "<p>En algunos lenguajes de programación se crea un índice para iterar un conjunto de elementos (for(int i=0; i<elementis.size(); ++i>)), sin embargo< con Python se puede utilizar la función enumerte() en su lugar.</p>"
      ]
    },
    {
      "cell_type": "code",
      "execution_count": 58,
      "metadata": {
        "trusted": true
      },
      "outputs": [
        {
          "name": "stdout",
          "output_type": "stream",
          "text": [
            "El índice es 0 y el elemento es hidrógeno\n",
            "El índice es 1 y el elemento es helio\n",
            "El índice es 2 y el elemento es carbon\n"
          ]
        }
      ],
      "source": [
        "#si se necesita iterar utilizando un índice\n",
        "for index, x in enumerate(elementosQ):\n",
        "    print(\"El índice es {} y el elemento es {}\".format(index,x))\n",
        "\n",
        "#parece que enumerate() necesita de una lista, una tupla o un diccionario \n",
        "#en x imprime lo que consiramos como keys"
      ]
    },
    {
      "cell_type": "markdown",
      "metadata": {},
      "source": [
        "<p>Los ciclos for pueden hacer uso del else una vez que terminan de iterar, pero no funciona si se rompe el ciclo.</p>"
      ]
    },
    {
      "cell_type": "code",
      "execution_count": 59,
      "metadata": {
        "trusted": true
      },
      "outputs": [
        {
          "name": "stdout",
          "output_type": "stream",
          "text": [
            "5\n",
            "4\n",
            "3\n",
            "2\n",
            "1\n",
            "Cuenta finalizada\n"
          ]
        }
      ],
      "source": [
        "def cuenta_idiom(limite):\n",
        "    for i in range(limite, 0, -1): #(5, 0, -1): ¿que significa el 0 y el -1?\n",
        "        print(i)\n",
        "    else: #corresponder al for, NO al if\n",
        "        print(\"Cuenta finalizada\")\n",
        "\n",
        "cuenta_idiom(5)"
      ]
    },
    {
      "cell_type": "code",
      "execution_count": 60,
      "metadata": {
        "trusted": true
      },
      "outputs": [
        {
          "name": "stdout",
          "output_type": "stream",
          "text": [
            "5\n",
            "4\n",
            "3\n"
          ]
        }
      ],
      "source": [
        "def cuenta_idiom(limite):\n",
        "    for i in range(limite, 0, -1): #(5, 0, -1): ¿que significa el 0 y el -1?\n",
        "        print(i)\n",
        "        if i == 3:\n",
        "            break #se rompe el ciclo, de hecho sabemos que los break rompen ciclos\n",
        "    else: #corresponder al for, NO al if\n",
        "        print(\"Cuenta finalizada\")\n",
        "\n",
        "cuenta_idiom(5)"
      ]
    },
    {
      "cell_type": "markdown",
      "metadata": {},
      "source": [
        "<hr></hr>\n",
        "<strong><h4>Bibliotecas</h4></strong>\n",
        "<p>Todas las funcionalidades de Python son proporcionadas a través de bibliotecas que se encuentran en la colección de The Pytho Stdandard Library, la mayoría de estas bibliotecas son multi-plataforma</p>\n",
        "\n",
        "<p>Referencia del leguaje: <a href=\"https://docs.python.org/3/reference/index.html\">https://docs.python.org/3/reference/index.html</a></p>\n",
        "<p>Bibliotecas estándar: <a href=\"https://docs.python.org/3/library/\">https://docs.python.org/3/library/</a></p>"
      ]
    },
    {
      "cell_type": "code",
      "execution_count": 63,
      "metadata": {
        "trusted": true
      },
      "outputs": [],
      "source": [
        "#print(pi) error"
      ]
    },
    {
      "cell_type": "code",
      "execution_count": 61,
      "metadata": {
        "trusted": true
      },
      "outputs": [
        {
          "name": "stdout",
          "output_type": "stream",
          "text": [
            "3.141592653589793\n",
            "-1.0\n"
          ]
        }
      ],
      "source": [
        "#Para utilizar una biblioteca, esta se debe importar\n",
        "import math\n",
        "\n",
        "print(math.pi) #error print(pi)\n",
        "\n",
        "x=math.cos(math.pi) #nota como debemos importar tanto como cos como pi\n",
        "\n",
        "print(x)"
      ]
    },
    {
      "cell_type": "code",
      "execution_count": 62,
      "metadata": {
        "trusted": true
      },
      "outputs": [
        {
          "name": "stdout",
          "output_type": "stream",
          "text": [
            "-1.0\n",
            "-1.0\n",
            "3.141592653589793\n"
          ]
        }
      ],
      "source": [
        "\"\"\"También se pueden importar todas las funciones de la biblioteca, \n",
        "de esta manera no se teien que usar el prefijo de la biblioteca, \n",
        "que es el ejemplo anterior fue math\"\"\"\n",
        "from math import *\n",
        "\n",
        "x=cos(pi)\n",
        "print(x)\n",
        "\n",
        "print(cos(pi)) #ó directamente así\n",
        "\n",
        "print(pi)\n",
        "\n"
      ]
    },
    {
      "cell_type": "code",
      "execution_count": 63,
      "metadata": {
        "trusted": true
      },
      "outputs": [
        {
          "name": "stdout",
          "output_type": "stream",
          "text": [
            "-1.0\n"
          ]
        }
      ],
      "source": [
        "#Otra manera es importar sólo las funciones que se necesitan\n",
        "from math import cos, pi\n",
        "\n",
        "x=cos(pi)\n",
        "\n",
        "print(x)"
      ]
    },
    {
      "cell_type": "code",
      "execution_count": 67,
      "metadata": {
        "trusted": true
      },
      "outputs": [
        {
          "name": "stdout",
          "output_type": "stream",
          "text": [
            "['__doc__', '__loader__', '__name__', '__package__', '__spec__', 'acos', 'acosh', 'asin', 'asinh', 'atan', 'atan2', 'atanh', 'cbrt', 'ceil', 'comb', 'copysign', 'cos', 'cosh', 'degrees', 'dist', 'e', 'erf', 'erfc', 'exp', 'exp2', 'expm1', 'fabs', 'factorial', 'floor', 'fmod', 'frexp', 'fsum', 'gamma', 'gcd', 'hypot', 'inf', 'isclose', 'isfinite', 'isinf', 'isnan', 'isqrt', 'lcm', 'ldexp', 'lgamma', 'log', 'log10', 'log1p', 'log2', 'modf', 'nan', 'nextafter', 'perm', 'pi', 'pow', 'prod', 'radians', 'remainder', 'sin', 'sinh', 'sqrt', 'tan', 'tanh', 'tau', 'trunc', 'ulp']\n"
          ]
        }
      ],
      "source": [
        "#Una vez que la biblioteca está exportada, se pueden conocer las funciones que ¿___? contiene \n",
        "print(dir(math))"
      ]
    },
    {
      "cell_type": "code",
      "execution_count": 64,
      "metadata": {
        "trusted": true
      },
      "outputs": [
        {
          "name": "stdout",
          "output_type": "stream",
          "text": [
            "Help on built-in function log in module math:\n",
            "\n",
            "log(...)\n",
            "    log(x, [base=math.e])\n",
            "    Return the logarithm of x to the given base.\n",
            "    \n",
            "    If the base not specified, returns the natural logarithm (base e) of x.\n",
            "\n"
          ]
        }
      ],
      "source": [
        "#Para conocer cómo utilizar las funciones, se puede utilizar la función help\n",
        "help(math.log)"
      ]
    },
    {
      "cell_type": "code",
      "execution_count": 65,
      "metadata": {
        "trusted": true
      },
      "outputs": [
        {
          "data": {
            "text/plain": [
              "3.3219280948873626"
            ]
          },
          "execution_count": 65,
          "metadata": {},
          "output_type": "execute_result"
        }
      ],
      "source": [
        "log(10, 2)"
      ]
    },
    {
      "cell_type": "code",
      "execution_count": 66,
      "metadata": {
        "trusted": true
      },
      "outputs": [
        {
          "data": {
            "text/plain": [
              "2.302585092994046"
            ]
          },
          "execution_count": 66,
          "metadata": {},
          "output_type": "execute_result"
        }
      ],
      "source": [
        "log(10)"
      ]
    },
    {
      "cell_type": "code",
      "execution_count": 67,
      "metadata": {
        "trusted": true
      },
      "outputs": [
        {
          "name": "stdout",
          "output_type": "stream",
          "text": [
            "-1.0\n"
          ]
        }
      ],
      "source": [
        "#Se puede definir un alias para llamar a las funciones que tiene la biblioteca math.\n",
        "\"\"\"Esta es la forma más recomendada para importar módulos, \n",
        "ya que de esta manera se sabe de qué módulo proviene la función\"\"\"\n",
        "\n",
        "import math as ma #antes nadamás era import math\n",
        "x=ma.cos(ma.pi) #si no querías importar todas con * o si no querías importar nadamás cos y pi\n",
        "print(x)"
      ]
    },
    {
      "cell_type": "markdown",
      "metadata": {},
      "source": [
        "<code style=\"color:blue\"><p>Bibliotecas más usadas</p></code>\n",
        "<ul><li><p>NumPy (Numerical Python). Es una de las bibliotecas más populares de Python, es usado para realizar operaciones con vectores o matrices de una manera eficiente. Contiene funciones de Álgebra Lineal, transformadas de Fourier, generación de números aleatorios e integración con Fortran, C y C++. <br>Fuente: <a href=\"http://www.numpy.org/\">http://www.numpy.org/</a></p></li></ul>\n",
        "<ul><li><p>SciPy (Scientific Python). Es una biblioteca hace uso de Numpy y es utilizada para hacer operaciones más avanzadas como transformadas discretas de Fourier, Álgebra Lineal, Optimización, etc.\n",
        "<br>Fuente: <a href=\"http://www.scipy.org/\">http://www.scipy.org/</a></p></li></ul>\n",
        "<ul><li><p>Matplotlib. Esta biblioteca es usada para generar una veriedad de gráficas en 2D y 3D, donde cada una de las configuraciones de la gráfica es programable. Se puede usar comando de Latex para agregar ecuaciones matemáticas a las gráficas.\n",
        "<br>Fuente: <a href=\"http://matplotlib.org/\">http://matplotlib.org/</a></p></li></ul>\n",
        "<ul><li><p>Scikit Learn (Machine Learning). Ésta biblioteca está basada en los anteriores y contiene algoritmos de aprendizaje de máquina, reconocimiento de patrones y estadísticas para realizar clasificación, regresión, clustering, etc.\n",
        "<br>Fuente: <a href=\"http://scikit-learn.org/\">http://scikit-learn.org/</a></p></li></ul>\n",
        "<ul><p><li>Pandas (Manipulación de datos). Esta biblioteca es utilizada para manipulación de datos, contiene estructuras de datos llamadas data frames que se asemejan a las hojas de cálculo y a los cuales se le puede aplicar una gran cantidad de funciones. <br>Fuente: <a href=\"http://pandas.pydata.org/\">http://pandas.pydata.org/</a></li></p></ul>\n",
        "<ul><p>ANEXO 1: En esta guía se explica de manera más detallada el uso de las bibliotecas Numpy y Matplotlib.</p></ul>\n",
        "<ul><li><p>Jupyter Notebook GitHub: <a href=\"https://github.com/eegkno/FI_UNAM/blob/master/02_Estructuras_de_datos_y_algoritmos_1/Anexos/Anexo_I.ipynb\">https://github.com/eegkno/FI_UNAM/blob/master/02_Estructuras_de_datos_y_algoritmos_1/Anexos/Anexo_I.ipynb</a><p></li></ul>\n"
      ]
    },
    {
      "cell_type": "markdown",
      "metadata": {},
      "source": [
        "<ul><li><p>Jupyter Notebook Visualizador: <a href=\"http://nbviewer.jupyter.org/github/eegkno/FI_UNAM/blob/master/02_Estructuras_de_datos_y_algoritmos_1/Anexos/Anexo_I.ipynb\">http://nbviewer.jupyter.org/github/eegkno/FI_UNAM/blob/master/02_Estructuras_de_datos_y_algoritmos_1/Anexos/Anexo_I.ipynb</a></p></li></ul>"
      ]
    },
    {
      "cell_type": "markdown",
      "metadata": {},
      "source": [
        "<hr>\n",
        "<code style=\"color:black\"><strong><h4>Graficación</h4></strong></code>\n",
        "<p>Matplotlib (<a herf=\"http://matplotlib.org/\">http://matplotlib.org/</a>) es una biblioteca usada para generar gráficas en 2D y 3D, donde cada una de las configuraciones de la gráfica es programable. En el siguiente ejemplo se mostrará la configuración básica de una gráfica<br>\n",
        "EL API de matplotlib se encuentra en <a href=\"http://matplotlib.org/api/index.html\">http://matplotlib.org/api/index.html</a></p>"
      ]
    },
    {
      "cell_type": "code",
      "execution_count": 78,
      "metadata": {
        "trusted": true
      },
      "outputs": [
        {
          "name": "stdout",
          "output_type": "stream",
          "text": [
            "%pylab is deprecated, use %matplotlib inline and import the required libraries.\n",
            "Populating the interactive namespace from numpy and matplotlib\n"
          ]
        },
        {
          "data": {
            "image/png": "[encoded data removed]",
            "text/plain": [
              "<Figure size 640x480 with 1 Axes>"
            ]
          },
          "metadata": {},
          "output_type": "display_data"
        }
      ],
      "source": [
        "%pylab inline\n",
        "import matplotlib.pyplot as plt\n",
        "from mpl_toolkits.mplot3d import Axes3D\n",
        "\n",
        "x = linspace(0, 5, 20)\n",
        "\n",
        "fig, ax = plt.subplots(facecolor='w', edgecolor='k')\n",
        "ax.plot(x, sin(x), marker=\"o\", color=\"r\", linestyle='None')\n",
        "\n",
        "ax.grid(True) #queremos verla cuadriculada\n",
        "ax.set_xlabel('X') \n",
        "ax.set_ylabel('Y') \n",
        "ax.grid(True)\n",
        "ax.legend([\"y = x**2\"])\n",
        "\n",
        "plt.title(\"Puntos\")\n",
        "plt.show()\n",
        "\n",
        "fig.savefig(\"gráfica.png\") "
      ]
    }
  ],
  "metadata": {
    "kernelspec": {
      "display_name": "Python 3",
      "language": "python",
      "name": "python3"
    },
    "language_info": {
      "codemirror_mode": {
        "name": "ipython",
        "version": 3
      },
      "file_extension": ".py",
      "mimetype": "text/x-python",
      "name": "python",
      "nbconvert_exporter": "python",
      "pygments_lexer": "ipython3",
      "version": "3.11.1"
    }
  },
  "nbformat": 4,
  "nbformat_minor": 4
}
