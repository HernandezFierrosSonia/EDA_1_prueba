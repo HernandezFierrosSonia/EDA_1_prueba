{
  "metadata": {
    "kernelspec": {
      "name": "python",
      "display_name": "Python (Pyodide)",
      "language": "python"
    },
    "language_info": {
      "codemirror_mode": {
        "name": "python",
        "version": 3
      },
      "file_extension": ".py",
      "mimetype": "text/x-python",
      "name": "python",
      "nbconvert_exporter": "python",
      "pygments_lexer": "ipython3",
      "version": "3.8"
    }
  },
  "nbformat_minor": 4,
  "nbformat": 4,
  "cells": [
    {
      "cell_type": "markdown",
      "source": "<img src=\"https://www.python.org/static/community_logos/python-logo-master-v3-TM.png\" title=\"Python Logo\"/>",
      "metadata": {}
    },
    {
      "cell_type": "markdown",
      "source": "<code style=\"background:blue; color:yellow\"><h1>Guía práctica de estudio 9:</h1></code>",
      "metadata": {}
    },
    {
      "cell_type": "markdown",
      "source": "<code style=\"background:yellow ;color:blue\"><span style=\"font-family:Comic Sans MS\"><h2>Introducción al lenguaje de programación Python</h2></span></code>",
      "metadata": {}
    },
    {
      "cell_type": "markdown",
      "source": "<b>Variables y tipos</b>",
      "metadata": {}
    },
    {
      "cell_type": "code",
      "source": "#Inicialización de variables\nx = 10 #variable de tipo entero\nprint(x)#función para imprimir los valores de las variables\n\n#se puede utilizar comillas dobles o simples para crear una cadena\ncadena1 = \"Hola mundo\" #variable de tipo cadena\ncadena2 = 'Adiós mundo' #entre los operdores de signo se deja espacio\nprint(cadena1)\nprint(cadena2)",
      "metadata": {
        "trusted": true
      },
      "execution_count": 1,
      "outputs": [
        {
          "name": "stdout",
          "text": "10\nHola mundo\nAdiós mundo\n",
          "output_type": "stream"
        }
      ]
    },
    {
      "cell_type": "code",
      "source": "#Asigna un mismo valor a tres variables\nx = y = z = 10 #nota como x ya existía en la celda anterior\nprint(z, x, y) \ns = t = u = \"Ardilla\"\nprint(s, t, u)",
      "metadata": {
        "trusted": true
      },
      "execution_count": 2,
      "outputs": [
        {
          "name": "stdout",
          "text": "10 10 10\nArdilla Ardilla Ardilla\n",
          "output_type": "stream"
        }
      ]
    },
    {
      "cell_type": "code",
      "source": "#la función type() permite conocer el tipo de variable\ntype(u)\ntype(y) \n\"\"\"la de arriba no la toma en cuenta \"\"\"",
      "metadata": {
        "trusted": true
      },
      "execution_count": 3,
      "outputs": [
        {
          "execution_count": 3,
          "output_type": "execute_result",
          "data": {
            "text/plain": "'la de arriba no la toma en cuenta '"
          },
          "metadata": {}
        }
      ]
    },
    {
      "cell_type": "code",
      "source": "type(u)",
      "metadata": {
        "trusted": true
      },
      "execution_count": 4,
      "outputs": [
        {
          "execution_count": 4,
          "output_type": "execute_result",
          "data": {
            "text/plain": "str"
          },
          "metadata": {}
        }
      ]
    },
    {
      "cell_type": "code",
      "source": "#se pueden cambiar los valores de las variables y el tipo se cambia automáticamente\nx = \"Día de asueto\"\ncadena = 10",
      "metadata": {
        "trusted": true
      },
      "execution_count": 5,
      "outputs": []
    },
    {
      "cell_type": "code",
      "source": "type(x)",
      "metadata": {
        "trusted": true
      },
      "execution_count": 6,
      "outputs": [
        {
          "execution_count": 6,
          "output_type": "execute_result",
          "data": {
            "text/plain": "str"
          },
          "metadata": {}
        }
      ]
    },
    {
      "cell_type": "code",
      "source": "type(cadena)",
      "metadata": {
        "trusted": true
      },
      "execution_count": 7,
      "outputs": [
        {
          "execution_count": 7,
          "output_type": "execute_result",
          "data": {
            "text/plain": "int"
          },
          "metadata": {}
        }
      ]
    },
    {
      "cell_type": "markdown",
      "source": "Cuando una variable tiene un valor constante, por convención, el nombre se escribe en mayúsculas.",
      "metadata": {}
    },
    {
      "cell_type": "code",
      "source": "SEGUNDOS_POR_DIA = 60*60*24\nPI = 3.1416",
      "metadata": {
        "trusted": true
      },
      "execution_count": 8,
      "outputs": []
    },
    {
      "cell_type": "markdown",
      "source": "**<h4>Cadenas</h4>**\nLas cadenas pueden ser definidas usando comilla simple (') o comilla doble (\"). Una carcaterística especial de las cadenas es que son inmutables, esto quiere decir que no se pueden cambiar los caracteres que contiene. El caracter \\ sirve para escapar caracteres como \\n \\t.",
      "metadata": {}
    },
    {
      "cell_type": "code",
      "source": "#Inicializando cadenas\ncadena_1 = 'Hola '\ncadena_2 = \"Mundo\"\nprint(cadena_1)\nprint(cadena_2)\nconcat_cadenas = cadena_1 + cadena_2 #concatenación de cadenas\nprint(concat_cadenas)",
      "metadata": {
        "trusted": true
      },
      "execution_count": 9,
      "outputs": [
        {
          "name": "stdout",
          "text": "Hola \nMundo\nHola Mundo\n",
          "output_type": "stream"
        }
      ]
    },
    {
      "cell_type": "code",
      "source": "#Para concatenar un número y una cadena se debe usar la función str()\n\"\"\" Es como convertir el integrer a string\nPersonalmente puedes pensar que concatenar y unir es lo mismo\"\"\"\nnum_cadena = concat_cadenas + ' ' + str(3)+ \" \" + str(6) #se agrega cadena vacía en dos ocaciones para agregar espacio, la primera vez con comilla simple y la segunda con comilla doble\nprint(num_cadena)",
      "metadata": {
        "trusted": true
      },
      "execution_count": 10,
      "outputs": [
        {
          "name": "stdout",
          "text": "Hola Mundo 3 6\n",
          "output_type": "stream"
        }
      ]
    },
    {
      "cell_type": "markdown",
      "source": "Para concatenar cadenas se recomienda el uso de la función format(), en lugar del viejo estilo del operador '+'.",
      "metadata": {}
    },
    {
      "cell_type": "code",
      "source": "#El valor de la variable se va a imprimir en el lugar donde se encuentre {} en la cadena\nnum_cadena = \"{}{} {}\".format(cadena_1, cadena_2, 3) #esas comillas nos dice que es una cadena\n#nota como Hola ya traía un espacio, así que se lo quité en estos {}\n\nprint(num_cadena)\ntype(num_cadena)",
      "metadata": {
        "trusted": true
      },
      "execution_count": 11,
      "outputs": [
        {
          "name": "stdout",
          "text": "Hola Mundo 3\n",
          "output_type": "stream"
        },
        {
          "execution_count": 11,
          "output_type": "execute_result",
          "data": {
            "text/plain": "str"
          },
          "metadata": {}
        }
      ]
    },
    {
      "cell_type": "markdown",
      "source": "Por medio de la función format, se puede cambiar el orden en que se imprimen las variables:",
      "metadata": {}
    },
    {
      "cell_type": "code",
      "source": "\"\"\"Cuando se agrega un número dentro de {}, el valor de la variable que se encuentra \nen esa posición dentro de la función format(), será impreso.\"\"\"\nnum_cadena = \"Cambiando el orden: {1}  {2}{0}\". format(cadena_1, cadena_2, 3)\n                                                    #     0         1      2\nprint(num_cadena)",
      "metadata": {
        "trusted": true
      },
      "execution_count": 12,
      "outputs": [
        {
          "name": "stdout",
          "text": "Cambiando el orden: Mundo  3Hola \n",
          "output_type": "stream"
        }
      ]
    },
    {
      "cell_type": "markdown",
      "source": "<p>Las funciones que están integradas en Python para trabajar con cadenas se pueden ver en el siguiente enlace <a href=\"https://docs.python.org/3/library/stdtypes.html#string-methods\">https://docs.python.org/3/library/stdtypes.html#string-methods</a></p>\n<hr>",
      "metadata": {}
    },
    {
      "cell_type": "markdown",
      "source": "**<h4>           Operadores </h4>** Aritméticos: + , - , * , /",
      "metadata": {}
    },
    {
      "cell_type": "code",
      "source": "#Para el exponente se puede utilizar asterísco\nprint(1 + 5)\nprint(6 * 3) #igual que en c\nprint(10 - 4)\nprint(100 / 50)\nprint(10 % 2) #el módulo se ocupa igual que en c\nprint(((20 * 3) + (10 + 2)) / 10)\nprint(2**2) #Potencia\n#print(2(3)) #error",
      "metadata": {
        "trusted": true
      },
      "execution_count": 13,
      "outputs": [
        {
          "name": "stdout",
          "text": "6\n18\n6\n2.0\n0\n7.2\n4\n",
          "output_type": "stream"
        }
      ]
    },
    {
      "cell_type": "markdown",
      "source": "Booleanos: __and, not, or__",
      "metadata": {}
    },
    {
      "cell_type": "code",
      "source": "False and True #en C se escribía todo en minúsculas",
      "metadata": {
        "trusted": true
      },
      "execution_count": 14,
      "outputs": [
        {
          "execution_count": 14,
          "output_type": "execute_result",
          "data": {
            "text/plain": "False"
          },
          "metadata": {}
        }
      ]
    },
    {
      "cell_type": "markdown",
      "source": "Comparación: __> , < , >= , <= , ==__",
      "metadata": {}
    },
    {
      "cell_type": "code",
      "source": "print(7 < 5) #False\nprint(7 > 5) #True\nprint((11 * 3) + 2 == 36 - 1) #True\nprint((11 * 3) + 2 >= 36) #False\nprint(\"curso\" != \"CuRsO\") #True",
      "metadata": {
        "trusted": true
      },
      "execution_count": 15,
      "outputs": [
        {
          "name": "stdout",
          "text": "False\nTrue\nTrue\nFalse\nTrue\n",
          "output_type": "stream"
        }
      ]
    },
    {
      "cell_type": "markdown",
      "source": "Más información sobre tipos de datos y operadores se puede consultar en <a href=\"https://docs.python.org/3/library/stdtypes.html\">https://docs.python.org/3/library/stdtypes.html</a>\n<hr>",
      "metadata": {}
    },
    {
      "cell_type": "markdown",
      "source": "<strong><h4>Lista</h4></strong>\n* <blockquote>           <p>Básicamente son valores que están separados por comas dentro de <code style=\"background:pink; color:blue\">corchetes []</code> (paréntesis cuadrados).</p></blockquote>\n* <blockquote>Está compuesta por cualquier cantidad y/o tipo de datos, ya sean cadenas, caracteres, números e inclusive otras listas.</p></blockquote>\n* <blockquote><p>Se puede acceder a las listas por medio de índices, estos índices comienzan desde 0 hasta el número de elementos menos 1.</p></blockquote>\n* <blockquote><p>Las listas son <mark>mutables</mark>. </p></blockquote>\n",
      "metadata": {}
    },
    {
      "cell_type": "code",
      "source": "#Declaración de una lista simple\nlista_diasDelMes=[31, 28, 31, 30, 31, 30, 31, 31, 30, 31, 30, 31]#nota que las listas van con corchetes\n        #índice    0   1   2   3   4   5   6   7   8   9  10  11\n      #elemento    1   2   3   4   5   6   7   8   9  10  11  12  \n\nprint(lista_diasDelMes) #imprime la lista completa #lo que me sorprende es que imprime los corchetes\nprint(lista_diasDelMes[0]) #imprime elemento 1\nprint(lista_diasDelMes[7]) #imprime elemento 7\nprint(lista_diasDelMes[11]) #imprime elemento 12 \n#conclusión entre corchetes se pone el índice",
      "metadata": {
        "trusted": true
      },
      "execution_count": 16,
      "outputs": [
        {
          "name": "stdout",
          "text": "[31, 28, 31, 30, 31, 30, 31, 31, 30, 31, 30, 31]\n31\n31\n31\n",
          "output_type": "stream"
        }
      ]
    },
    {
      "cell_type": "code",
      "source": "#Listas anidadas\nlistaAnidada_aboutNumeros=[['cero', 0], ['uno', 1, 'UNO'], ['dos', 2], ['tres', 3], ['cuatro', 4], ['x', 5]]\n\n                #elemento        1              2               3            4             5           6\n\nprint(listaAnidada_aboutNumeros) #imprime la lista anidada completa #imprime los corchetes\n\nprint(listaAnidada_aboutNumeros[0]) #imprime todo el elemento 1 de la lista\nprint(listaAnidada_aboutNumeros[1]) #imprime todo el elemento 2 de la lista\n\nprint(listaAnidada_aboutNumeros[2][0]) #imprime del elemento 3, lo que se encuentre en la pocisión 0\nprint(listaAnidada_aboutNumeros[2][1]) #imprime del elemento 3, lo que se encuentre en la pocisión 1\n\nprint(listaAnidada_aboutNumeros[1][0]) #imprime del elemento 2, lo que se encuentre en la posición 0\nprint(listaAnidada_aboutNumeros[1][1]) #imprime del elemento 2, lo que se encuentre en la posición 1\nprint(listaAnidada_aboutNumeros[1][2]) #imprime del elemento 2, lo que se encuentre en la posición 2",
      "metadata": {
        "trusted": true
      },
      "execution_count": 17,
      "outputs": [
        {
          "name": "stdout",
          "text": "[['cero', 0], ['uno', 1, 'UNO'], ['dos', 2], ['tres', 3], ['cuatro', 4], ['x', 5]]\n['cero', 0]\n['uno', 1, 'UNO']\ndos\n2\nuno\n1\nUNO\n",
          "output_type": "stream"
        }
      ]
    },
    {
      "cell_type": "code",
      "source": "#Se cambia el valor de uno de los elementos de la lista, por que las listas son MUTABLES\nprint(listaAnidada_aboutNumeros[5]) #antes\nlistaAnidada_aboutNumeros[5][0]=\"cinco\"\nprint(listaAnidada_aboutNumeros[5]) #después",
      "metadata": {
        "trusted": true
      },
      "execution_count": 18,
      "outputs": [
        {
          "name": "stdout",
          "text": "['x', 5]\n['cinco', 5]\n",
          "output_type": "stream"
        }
      ]
    },
    {
      "cell_type": "markdown",
      "source": "Hay otras operaciones que se pueden realizar usando listas, éstas se pueden consultae en <a href=\"https://docs.python.org/3/tutorial/datastructures.html#more-on-lists\">https://docs.python.org/3/tutorial/datastructures.html#more-on-lists</a>\n<hr>",
      "metadata": {}
    },
    {
      "cell_type": "markdown",
      "source": "__Tuplas__\n* <blockquote><p>Son parecidas a las listas, valores separados por una coma.</p></blockquote>\n* <blockquote><p>Comparadas con las listas, las tuplas <mark>no</mark> son <mark>mutables</mark>.</p></blockquote>\n* <blockquote><p>Se pueden aplicar las mismas operaciones que en las listas y su ventaja es que consumen <mark>menos memoria</mark> para almacenarse.</p></blockquote>\n* <blockquote><p>Se crean, ya sea utilizando <code style=\"background:pink;color:blue\">paréntesis ()</code> o simplemente separando los valores por comas.</p></blockquote>",
      "metadata": {}
    },
    {
      "cell_type": "code",
      "source": "#Declaración de una tupla\ntupla_diasDelMes=(31, 28, 31, 30, 31, 30, 31, 31, 30, 31, 30, 31) #nota como son paréntesis\n        #índice    0   1   2   3   4   5   6   7   8   9  10  11\n      #elemento    1   2   3   4   5   6   7   8   9  10  11  12  \n\nprint(tupla_diasDelMes) #imprime la tupla completa #imprime los paréntesis\nprint(tupla_diasDelMes[0]) #imprimir elemento 1\nprint(tupla_diasDelMes[3]) #imprimir elemento 4\nprint(tupla_diasDelMes[1]) #imprimir elemento 2\n\ndiferentFormaDeTupla=5,0,'N',1,'A' #:o\nprint(diferentFormaDeTupla)",
      "metadata": {
        "trusted": true
      },
      "execution_count": 19,
      "outputs": [
        {
          "name": "stdout",
          "text": "(31, 28, 31, 30, 31, 30, 31, 31, 30, 31, 30, 31)\n31\n30\n28\n(5, 0, 'N', 1, 'A')\n",
          "output_type": "stream"
        }
      ]
    },
    {
      "cell_type": "code",
      "source": "#Declaración de tuplas anidadas\ntuplaAnidada_aboutNumeros=(('cero', 0), ('uno', 1, 'UNO'), ('dos', 2), ('tres', 3), ('cuatro', 4), ('x', 5))\n\n               #posición      [0]  [1]    [0]   [1]  [2]     [0]  [1]     [0]  [1]      [0]   [1]   [0] [1]\n                #elemento        1              2               3            4              5          6\n #índice pero del elemento       0              1               2            3              4          5\n\nprint(tuplaAnidada_aboutNumeros) #imprime toda la tupla anidada\n\nprint(tuplaAnidada_aboutNumeros[0]) #imprie el elemento 1 de la tupla anidada\nprint(tuplaAnidada_aboutNumeros[1]) #imprime el elemento 2 \n\nprint(tuplaAnidada_aboutNumeros[2][0]) #imprime del tercer elemento la posición 0\nprint(tuplaAnidada_aboutNumeros[2][1]) #imprime del tercer elemento la posición 1\n\nprint(tuplaAnidada_aboutNumeros[1][0])\nprint(tuplaAnidada_aboutNumeros[1][1])\nprint(tuplaAnidada_aboutNumeros[1][2])",
      "metadata": {
        "trusted": true
      },
      "execution_count": 20,
      "outputs": [
        {
          "name": "stdout",
          "text": "(('cero', 0), ('uno', 1, 'UNO'), ('dos', 2), ('tres', 3), ('cuatro', 4), ('x', 5))\n('cero', 0)\n('uno', 1, 'UNO')\ndos\n2\nuno\n1\nUNO\n",
          "output_type": "stream"
        }
      ]
    },
    {
      "cell_type": "code",
      "source": "#probando la mutabilidad de las listas \nprint(\"valor actual {}\".format(lista_diasDelMes[0])) #creo que el .format() se utiliza siempre a la derceha de {}\nlista_diasDelMes[0]=50\nprint(\"valor cambiado {}\".format(lista_diasDelMes[0])) #comillas dobles\nprint('valor cambiado {}'.format(lista_diasDelMes[0])) #comillas simples",
      "metadata": {
        "trusted": true
      },
      "execution_count": 21,
      "outputs": [
        {
          "name": "stdout",
          "text": "valor actual 31\nvalor cambiado 50\nvalor cambiado 50\n",
          "output_type": "stream"
        }
      ]
    },
    {
      "cell_type": "code",
      "source": "#probando la no mutabilidad de las tuplas\ntupla_diasDelMes[0]=50 #Error",
      "metadata": {
        "trusted": true
      },
      "execution_count": 22,
      "outputs": [
        {
          "ename": "<class 'TypeError'>",
          "evalue": "'tuple' object does not support item assignment",
          "traceback": [
            "\u001b[0;31m---------------------------------------------------------------------------\u001b[0m",
            "\u001b[0;31mTypeError\u001b[0m                                 Traceback (most recent call last)",
            "Cell \u001b[0;32mIn[22], line 2\u001b[0m\n\u001b[1;32m      1\u001b[0m \u001b[38;5;66;03m#probando la no mutabilidad de las tuplas\u001b[39;00m\n\u001b[0;32m----> 2\u001b[0m \u001b[43mtupla_diasDelMes\u001b[49m\u001b[43m[\u001b[49m\u001b[38;5;241;43m0\u001b[39;49m\u001b[43m]\u001b[49m\u001b[38;5;241m=\u001b[39m\u001b[38;5;241m50\u001b[39m \u001b[38;5;66;03m#Error\u001b[39;00m\n",
            "\u001b[0;31mTypeError\u001b[0m: 'tuple' object does not support item assignment"
          ],
          "output_type": "error"
        }
      ]
    },
    {
      "cell_type": "markdown",
      "source": "<strong>Tupla con nombre</strong>\n<p>En comparación con las tuplas anteriores, este tipo especial de tuplas permite específicar un nombre para describirla.</p>",
      "metadata": {}
    },
    {
      "cell_type": "code",
      "source": "#Se debe importar la librería para hacer uso de namedtuple\nfrom collections import namedtuple\n\n#se crea la tupla con nombre\n#El primer argumento es el nombre de la tupla, mientras que el segundo argumento son los campos\n#p es la referencia a la tupla\nplaneta = namedtuple('planeta', ['nombre', 'numero']) #en mi opinión, es como una tupla general\n      #            |_______| |__________________|\n      #argumentos:     1°             2°\n\n#se crea el planeta 1\nplaneta1 = planeta('Mercurio', 1) #se agregan a la tupla los valores correspondientes a los campos\nprint(planeta1) #se me hace curioso que imprime las comillas sensillas\n\n#se crea el planeta 2\nplaneta2 = planeta('Venus', 2)\n\n#Se imprimen los campos\n#Usando la referencia se llama a cada uno de sus campos\nprint(planeta1.nombre, planeta2.numero) \n#Se optienen los valores por el orden de los campos\nprint(planeta1[0], planeta2[1])\n\nprint('Campos de la tupla: {}'.format(planeta1._fields))",
      "metadata": {
        "trusted": true
      },
      "execution_count": 23,
      "outputs": [
        {
          "name": "stdout",
          "text": "planeta(nombre='Mercurio', numero=1)\nMercurio 2\nMercurio 2\nCampos de la tupla: ('nombre', 'numero')\n",
          "output_type": "stream"
        }
      ]
    },
    {
      "cell_type": "markdown",
      "source": "<br></br>\n<strong><h4>Diccionarios</h4></strong>\n<ul><blockquote><p>Un diccionario se crea usando <code style=\"background:pink;color:blue\">llaves {}</code> y consta de dos partes: llave y valor</p></blockquote></ul>\n<ul><blockquote><p>Las llaves son <mark>inmutables</mark>, deben de tener un solo tipo de dato, una cadena o un número. Una vez que es creado, no se puede cambiar su tipo.</p></blockquote></ul>\n<ul><blockquote><p>Mientras que el valor puede ser de cualquier tipo y se puede cambiar con el tiempo.</p></blockquote></ul>\n<ul><blockquote><p>Los elementos en un diccionario no están ordenados.</p></blockquote></ul>\n\n<p>Más información sobre diccionarios en: <a href=\"https://docs.python.org/3/tutorial/datastructures.html#dictionaries\">https://docs.python.org/3/tutorial/datastructures.html#dictionaries</a></p>",
      "metadata": {}
    },
    {
      "cell_type": "code",
      "source": "#Creando un diccionario\nelementos = {'hidrogeno': 1, 'helio': 2, 'carbon': 6} #date cuenta que son llaves\n#siempre 'Característica_o_Nombre': valorDeCualquierTipo\n\n#al momento de la impresión, pueden aparecer en diferente orden del introducido\nprint(elementos)\n\nprint(elementos['carbon'])",
      "metadata": {
        "trusted": true
      },
      "execution_count": 24,
      "outputs": [
        {
          "name": "stdout",
          "text": "{'hidrogeno': 1, 'helio': 2, 'carbon': 6}\n6\n",
          "output_type": "stream"
        }
      ]
    },
    {
      "cell_type": "code",
      "source": "#Se pueden agregar elementos al diccionario\nelementos['litio'] = 3\nelementos['nitrogeno'] = 8\n\nprint(elementos) #imprimiendo todos los elementos, nótese que los elementos no están ordenados (en cuanto a :número)",
      "metadata": {
        "trusted": true
      },
      "execution_count": 25,
      "outputs": [
        {
          "name": "stdout",
          "text": "{'hidrogeno': 1, 'helio': 2, 'carbon': 6, 'litio': 3, 'nitrogeno': 8}\n",
          "output_type": "stream"
        }
      ]
    },
    {
      "cell_type": "code",
      "source": "#creando un nuevo diccionario\nelements2={} #tons no hace falta inicializarlo? bueno decir qué lleva?\nelements2['H'] = {'name': 'Hydrogen', 'number': 1, 'weight': 1.00794} #que curioso aparte de diccionario={}, se puede diccionario[]={}\nelements2['He'] = {'name': 'Helium', 'number': 2, 'weight': 4.002602}\n\nprint(elements2)\n\n#manzana={manzana['feature']={'color': 'rojo'}} error",
      "metadata": {
        "trusted": true
      },
      "execution_count": 26,
      "outputs": [
        {
          "name": "stdout",
          "text": "{'H': {'name': 'Hydrogen', 'number': 1, 'weight': 1.00794}, 'He': {'name': 'Helium', 'number': 2, 'weight': 4.002602}}\n",
          "output_type": "stream"
        }
      ]
    },
    {
      "cell_type": "code",
      "source": "#Imprimiendo los datos de un elemento del diccionario\nprint(elements2['H'])\nprint(elements2['H']['name'])\nprint(elements2['H']['number'])\n\nelements2['H']['weight'] = 4.30 #cambiando el valor de un elemento, recuerda que ['H'] no es un elementos, es un como que nombre\nprint(elements2['H']['weight'])\nprint(elements2['H']) \nprint(elements2) #imprime a 'H' y 'He'\n\nelements2['H']['weight'] = 4 #de flotante a entero\nprint(elements2['H'])\nprint(elements2) ",
      "metadata": {
        "trusted": true
      },
      "execution_count": 27,
      "outputs": [
        {
          "name": "stdout",
          "text": "{'name': 'Hydrogen', 'number': 1, 'weight': 1.00794}\nHydrogen\n1\n4.3\n{'name': 'Hydrogen', 'number': 1, 'weight': 4.3}\n{'H': {'name': 'Hydrogen', 'number': 1, 'weight': 4.3}, 'He': {'name': 'Helium', 'number': 2, 'weight': 4.002602}}\n{'name': 'Hydrogen', 'number': 1, 'weight': 4}\n{'H': {'name': 'Hydrogen', 'number': 1, 'weight': 4}, 'He': {'name': 'Helium', 'number': 2, 'weight': 4.002602}}\n",
          "output_type": "stream"
        }
      ]
    },
    {
      "cell_type": "code",
      "source": "#Agregando elementos a una llave\nelements2['H'].update({'gas boble': True})\nprint(elements2['H'])",
      "metadata": {
        "trusted": true
      },
      "execution_count": 28,
      "outputs": [
        {
          "name": "stdout",
          "text": "{'name': 'Hydrogen', 'number': 1, 'weight': 4, 'gas boble': True}\n",
          "output_type": "stream"
        }
      ]
    },
    {
      "cell_type": "code",
      "source": "#Muestra todos los items del diccionario\nprint(elements2.items())\n\n#Muestra todas las llaves, del diccionario, es decir estas {}\nprint(elements2.keys())",
      "metadata": {
        "trusted": true
      },
      "execution_count": 29,
      "outputs": [
        {
          "name": "stdout",
          "text": "dict_items([('H', {'name': 'Hydrogen', 'number': 1, 'weight': 4, 'gas boble': True}), ('He', {'name': 'Helium', 'number': 2, 'weight': 4.002602})])\ndict_keys(['H', 'He'])\n",
          "output_type": "stream"
        }
      ]
    },
    {
      "cell_type": "markdown",
      "source": "<strong><h4>Funciones</h4></strong>\n* <blockquote><p>Una función o procedimiento sirve para empaquetar código que sirve para ser reutilizado.</p></blockquote>\n* <blockquote><p>Se puede usar ese mismo código con diferentes entradas y obtener resultados o comportamiento de acuerdo con esos datos.</p></blockquote>",
      "metadata": {}
    },
    {
      "cell_type": "code",
      "source": "#Las funciones pueden recibir n número de parámetros, no se necesita indicar el tipo\ndef imprime_nombre(nombre):\n    print(\"Hola \" + nombre) #las cadenas se pueden concatenar con el +\n\nimprime_nombre(\"Isabel\")#recuerda que la cuenta idéntación, recuerda que no hay un main",
      "metadata": {
        "trusted": true
      },
      "execution_count": 30,
      "outputs": [
        {
          "name": "stdout",
          "text": "Hola Isabel\n",
          "output_type": "stream"
        }
      ]
    },
    {
      "cell_type": "code",
      "source": "#Definiendo una función que regresa el cuadrado de un número\ndef cuadrado(y): #las variables las puedes recibir con el nombre que quieras\n    return y**2 #esta variable no se puede ocupar fuera de esta función\n\nx=5 #es global?\n#la función format() sirve para convertir los parámetros que recibe, en cadenas\nprint(\"El cuadrado de {} es {}\".format(x, cuadrado(x))) #la función se mandó a llamar adentro de un format\n\nprint(\"El cuadrado de {1} es {0}\".format(cuadrado(x), x)) #experimentando un poco con lo aprendido\n#print(y) error, esta variabl es local de una función",
      "metadata": {
        "trusted": true
      },
      "execution_count": 31,
      "outputs": [
        {
          "name": "stdout",
          "text": "El cuadrado de 5 es 25\nEl cuadrado de 5 es 25\n",
          "output_type": "stream"
        }
      ]
    },
    {
      "cell_type": "code",
      "source": "#Definiendo una función que regresa más de un valor #eso no se podía en c\ndef varios(x):\n    return x**2, x**3, x**4\n\n#los valores que regresa la función pueden ser guardado en variables separadas por coma\nval1, val2, val3=varios(2)\nprint(\"{} {} {}\".format(val1, val2, val3))\nprint(\"{1}{2}{0}\".format(val3, val1, val2))#lo pongo pa' no olvidarlo",
      "metadata": {
        "trusted": true
      },
      "execution_count": 32,
      "outputs": [
        {
          "name": "stdout",
          "text": "4 8 16\n4816\n",
          "output_type": "stream"
        }
      ]
    },
    {
      "cell_type": "code",
      "source": "#Función con un parámetro con un valor por defecto\ndef cuadrado_default(x=3): #tons en las funciones se puede declarar e inicializar una variable\n    return x**2\n\n#así se manda a llamar\ncuadrado_default()",
      "metadata": {
        "trusted": true
      },
      "execution_count": 33,
      "outputs": [
        {
          "execution_count": 33,
          "output_type": "execute_result",
          "data": {
            "text/plain": "9"
          },
          "metadata": {}
        }
      ]
    },
    {
      "cell_type": "markdown",
      "source": "<strong><p>Idiom:</strong> Cuando una función regresa más de un valor, se puede usar el operador '_', para no guardar un valor deseado.</p>",
      "metadata": {}
    },
    {
      "cell_type": "code",
      "source": "#La función regresa tres, valores, pero sólo nos interesa el primero y el tercero\nval4, _, val5= varios(2) #las podemos recibir con los nombresque quieras\nprint(\"{} {}\".format(val4, val5))",
      "metadata": {
        "trusted": true
      },
      "execution_count": 34,
      "outputs": [
        {
          "name": "stdout",
          "text": "4 16\n",
          "output_type": "stream"
        }
      ]
    },
    {
      "cell_type": "markdown",
      "source": "<hr></hr>\n<b><h4>Variables globales</h4></b>\n<p>Se puede decir que el ambiente de ejecución es donde se efectúan las operaciones que componen un programa. Al momento de ejecutar un programa se crea un espacio de nombres para las variables. Hay dos tipos se espacio de <i>nombres</i>, el primero es el espacio global y el segundo el espacio local. Las variables que se declaren afuera de las funciones pertenecen al espacio global y no se necesita añadir un modificador para declararlas de esta manera. Por otro lado, todas las variables que se definen dentro de una función pertenecen al espacio local, estas variables sólo pueden ser reconocidas y usadas dentro de la propia función.</p>",
      "metadata": {}
    },
    {
      "cell_type": "code",
      "source": "#Se crea una variable en el espacio global de nombres\nvariable = 'Globalmente Famoso'\n\n#se crea una función que imprime la variabe global\ndef funcion_1():\n    print(variable)\n\n#llamada a la función que imprime la variable global\nfuncion_1()\n\n#imprime la variable global\nprint(variable)",
      "metadata": {
        "trusted": true
      },
      "execution_count": 35,
      "outputs": [
        {
          "name": "stdout",
          "text": "Globalmente Famoso\nGlobalmente Famoso\n",
          "output_type": "stream"
        }
      ]
    },
    {
      "cell_type": "code",
      "source": "#Se crea una variable local que tiene el mismo nombre que la variable global\ndef funcion_2():\n    variable = \"Soy local\" #usando las comillas dobles\n    print(variable)\n\n#se manda a llamar a la función\nfuncion_2() #imprime la variable local de la función\n\n#imprime la variable global\nprint(variable)",
      "metadata": {
        "trusted": true
      },
      "execution_count": 36,
      "outputs": [
        {
          "name": "stdout",
          "text": "Soy local\nGlobalmente Famoso\n",
          "output_type": "stream"
        }
      ]
    },
    {
      "cell_type": "code",
      "source": "\"\"\"Se trata de imprimir el valor de la variable global, a diferencia de la funcion_1(),\nse creó en el espacio local de la funcion_3() una variabl con el mismo nombre,\npor lo que se reemplaza la variable global\"\"\"\ndef funcion_3():\n    print(variable)\n    variable=\"Localmente\" #no solo se intenta crear la variable local, desde otro pov se intenta modificar la variable global\n    print(variable)\n\n\n#en cambio si te deja hacer esto si borras la línea variable=\"Localmente\"\nfuncion_3()\nprint(variable)\nvariable=\"Localmente\" \nprint(variable)\n",
      "metadata": {
        "trusted": true
      },
      "execution_count": 37,
      "outputs": [
        {
          "ename": "<class 'UnboundLocalError'>",
          "evalue": "cannot access local variable 'variable' where it is not associated with a value",
          "traceback": [
            "\u001b[0;31m---------------------------------------------------------------------------\u001b[0m",
            "\u001b[0;31mUnboundLocalError\u001b[0m                         Traceback (most recent call last)",
            "Cell \u001b[0;32mIn[37], line 11\u001b[0m\n\u001b[1;32m      7\u001b[0m     \u001b[38;5;28mprint\u001b[39m(variable)\n\u001b[1;32m     10\u001b[0m \u001b[38;5;66;03m#en cambio si te deja hacer esto si borras la línea variable=\"Localmente\"\u001b[39;00m\n\u001b[0;32m---> 11\u001b[0m \u001b[43mfuncion_3\u001b[49m\u001b[43m(\u001b[49m\u001b[43m)\u001b[49m\n\u001b[1;32m     12\u001b[0m \u001b[38;5;28mprint\u001b[39m(variable)\n\u001b[1;32m     13\u001b[0m variable\u001b[38;5;241m=\u001b[39m\u001b[38;5;124m\"\u001b[39m\u001b[38;5;124mLocalmente\u001b[39m\u001b[38;5;124m\"\u001b[39m \n",
            "Cell \u001b[0;32mIn[37], line 5\u001b[0m, in \u001b[0;36mfuncion_3\u001b[0;34m()\u001b[0m\n\u001b[1;32m      4\u001b[0m \u001b[38;5;28;01mdef\u001b[39;00m \u001b[38;5;21mfuncion_3\u001b[39m():\n\u001b[0;32m----> 5\u001b[0m     \u001b[38;5;28mprint\u001b[39m(\u001b[43mvariable\u001b[49m)\n\u001b[1;32m      6\u001b[0m     variable\u001b[38;5;241m=\u001b[39m\u001b[38;5;124m\"\u001b[39m\u001b[38;5;124mLocalmente\u001b[39m\u001b[38;5;124m\"\u001b[39m \u001b[38;5;66;03m#no solo se intenta crear la variable local, desde otro pov se intenta modificar la variable global\u001b[39;00m\n\u001b[1;32m      7\u001b[0m     \u001b[38;5;28mprint\u001b[39m(variable)\n",
            "\u001b[0;31mUnboundLocalError\u001b[0m: cannot access local variable 'variable' where it is not associated with a value"
          ],
          "output_type": "error"
        }
      ]
    },
    {
      "cell_type": "code",
      "source": "\"\"\"Para resolver el problema anterior y específicar qué se requiere hacer uso \nde la variable global dentro de la función funcion_4(), se requiere agregar\nla palabra reservada global\"\"\"\n\ndef funcion_4():\n    global variable\n    print(variable) #se imprime la variable global con su valor 'Globalmente famoso'\n    variable=\"Local\" #se modifica el valor de la variable global\n    print(variable) #imprime su nuevo valor\n\n\"\"\"al momento de ejecutar la función se imprime el valor que tenía asignado\n la variable variable antes de ser modificada por la función. Después de asignar el valor,\n éste es impreso\"\"\"\n\nfuncion_4()\n\n#se imprime la variable global con su valor modificado\nprint(variable)#imprime su nuevo valor",
      "metadata": {
        "trusted": true
      },
      "execution_count": 38,
      "outputs": [
        {
          "name": "stdout",
          "text": "Globalmente Famoso\nLocal\nLocal\n",
          "output_type": "stream"
        }
      ]
    },
    {
      "cell_type": "markdown",
      "source": "<strong><p>NOTA:</strong> El manejo de variables globales dentro de una función en el lenguaje Python se considera como una mala práctica, se recomienda que se pase como parámetro a la función y que regrese un valor.</p>\n<hr>",
      "metadata": {}
    },
    {
      "cell_type": "markdown",
      "source": "<strong><h4>Estructuras de control selectivas</h4></strong>\n<p><code style=\"color:blue\">if</code></p>\n<p>La declaración <em>if</em> sirve para ejecutar código dependiendo del resultado de una condición.</p>",
      "metadata": {}
    },
    {
      "cell_type": "code",
      "source": "def obtenerMayor(param1, param2):\n    if param1 < param2:\n        print('{} es mayor que {}'.format(param2, param1))\n\nobtenerMayor(5, 7)\n\nobtenerMayor(7, 5) #No imprime nada",
      "metadata": {
        "trusted": true
      },
      "execution_count": 39,
      "outputs": [
        {
          "name": "stdout",
          "text": "7 es mayor que 5\n",
          "output_type": "stream"
        }
      ]
    },
    {
      "cell_type": "markdown",
      "source": "<p>Se puede encadenar más de una condición sin tener que agregar un operador booleano.</p>",
      "metadata": {}
    },
    {
      "cell_type": "code",
      "source": "x = y = z = 3\nif x == y == z: #esto es nuevo\n    print(True)",
      "metadata": {
        "trusted": true
      },
      "execution_count": 40,
      "outputs": [
        {
          "name": "stdout",
          "text": "True\n",
          "output_type": "stream"
        }
      ]
    },
    {
      "cell_type": "markdown",
      "source": "<p><code style=\"color:blue\">if-elif-else</code> <br></br>\nEste tipo de delcaraciones se usan para dar una opción en ele caso de que la condición no se cumpla.</p>",
      "metadata": {}
    },
    {
      "cell_type": "code",
      "source": "def obtenerMayor2(param1, param2):\n    if param1 < param2:\n        return param2\n    else:\n        return param1\n\nprint(\"El mayor es {}\".format(obtenerMayor2(20, 4)))\n\nprint(\"El mayor es {}\".format(obtenerMayor2(11, 6)))",
      "metadata": {
        "trusted": true
      },
      "execution_count": 41,
      "outputs": [
        {
          "name": "stdout",
          "text": "El mayor es 20\nEl mayor es 11\n",
          "output_type": "stream"
        }
      ]
    },
    {
      "cell_type": "markdown",
      "source": "<p>Para comparaciones simples, Pytho no tiene un <mark>operador ternario</mark> (x ? True:False), pero se puede emular con if-else</p>",
      "metadata": {}
    },
    {
      "cell_type": "code",
      "source": "def obtenerMayor_idiom(param1, param2):\n    \"\"\"La variable valor va a tener el valor de param2 si el if es verdadero\n    de lo contrario tendra el valor param1\n    nota: debe regresar el mayor\"\"\"\n    valor = param2 if (param1 < param2) else param1\n    return valor\nprint(\"El mayor es {}\".format(obtenerMayor_idiom(11, 4)))",
      "metadata": {
        "trusted": true
      },
      "execution_count": 42,
      "outputs": [
        {
          "name": "stdout",
          "text": "El mayor es 11\n",
          "output_type": "stream"
        }
      ]
    },
    {
      "cell_type": "markdown",
      "source": "<code style=\"color:blue\">if-elif-else</code>\n<p>Este tipo de declaraciones sirve para generar varios casos de prueba. En otros lenguajes es similar a case o switch.</p>",
      "metadata": {}
    },
    {
      "cell_type": "code",
      "source": "def numeros (num):\n    if num==1:\n        print(\"Tu número es 1\")\n    elif num==2:\n        print(\"el número es 2\")\n    elif num==2:\n        print(\"el número es 3\")\n    elif num==3:\n        print(\"el número es 4\")\n    else: #este es como el default\n        print(\"no hay opción\")\n\nnumeros(2)\nnumeros(5)",
      "metadata": {
        "trusted": true
      },
      "execution_count": 43,
      "outputs": [
        {
          "name": "stdout",
          "text": "el número es 2\nno hay opción\n",
          "output_type": "stream"
        }
      ]
    },
    {
      "cell_type": "markdown",
      "source": "<p>En algunos casos se puede evitar la repeticion de código del if-elif-else de la siguiente manera:</p>",
      "metadata": {}
    },
    {
      "cell_type": "code",
      "source": "def numeros_idiom(num):\n    #la tupla tiene las posiciones válidas\n    if num in (1, 2, 3, 4): #que curioso usamos la funcion in\n        print(\"tu numero es {}\".format(num))\n    else:\n        print(\"{} no es una opcion\".format(num))\n\nnumeros_idiom(2)\n\nnumeros_idiom(5)",
      "metadata": {
        "trusted": true
      },
      "execution_count": 44,
      "outputs": [
        {
          "name": "stdout",
          "text": "tu numero es 2\n5 no es una opcion\n",
          "output_type": "stream"
        }
      ]
    },
    {
      "cell_type": "markdown",
      "source": "<p>Estructura de control selectiva anidada</p>",
      "metadata": {}
    },
    {
      "cell_type": "code",
      "source": "def obtenerMasGrande(a, b, c):\n    if a > b:\n        if a > c:\n            return a\n        else:\n            return c\n    else:\n        if b > c:\n            return b\n        else:\n            return c\n\nprint(\"El más grande es {}\".format(obtenerMasGrande(7, 13, 3)))",
      "metadata": {
        "trusted": true
      },
      "execution_count": 45,
      "outputs": [
        {
          "name": "stdout",
          "text": "El más grande es 13\n",
          "output_type": "stream"
        }
      ]
    },
    {
      "cell_type": "markdown",
      "source": "<hr></hr>\n<strong><h4>Estructuras de control repetitivas</h4></strong>\n<p><code style=\"color:blue\">Ciclo while</code></p>\n<p>Un cinclo es la manera de ejecutar una o varias acciones repetidamente. A diferencia de las estructuras if o if-else que sólo se ejecutan una vez. Para qye el ciclo se ejecute, la <mark>condición</mark> siempre tiene que ser <mark>verdadera</mark>.</p>",
      "metadata": {}
    },
    {
      "cell_type": "code",
      "source": "#Ejemplo 1\ndef cuenta(limite):\n    i = limite\n    while True: #cilco infinito\n        print(i)\n        i=i-1\n        if i == 0:\n            break #rompiendo el ciclo\n\ncuenta(10)",
      "metadata": {
        "trusted": true
      },
      "execution_count": 46,
      "outputs": [
        {
          "name": "stdout",
          "text": "10\n9\n8\n7\n6\n5\n4\n3\n2\n1\n",
          "output_type": "stream"
        }
      ]
    },
    {
      "cell_type": "code",
      "source": "#Ejemplo 2\ndef factorial(n):\n    i = 2\n    temp = 1 \n    while i < n + 1:\n        print(\"Hola\")\n        temp = temp * i\n        i = i + 1\n    return temp\n\nprint(factorial(4))\nprint(factorial(5))",
      "metadata": {
        "trusted": true
      },
      "execution_count": 47,
      "outputs": [
        {
          "name": "stdout",
          "text": "Hola\nHola\nHola\n24\nHola\nHola\nHola\nHola\n120\n",
          "output_type": "stream"
        }
      ]
    },
    {
      "cell_type": "markdown",
      "source": "<p><code style=\"color:blue\">Ciclo for</code></p>\n<p>Este ciclo es el más común usado en Python, se utiliza generalmente para hacer iteraciones en una lista, diccionarios y arreglos.</p><br>\n</br<p><b>Iteración en listas</b><p>",
      "metadata": {}
    },
    {
      "cell_type": "code",
      "source": "for x in (1, 2, 3, 4, 5):\n    print(x)",
      "metadata": {
        "trusted": true
      },
      "execution_count": 48,
      "outputs": [
        {
          "name": "stdout",
          "text": "1\n2\n3\n4\n5\n",
          "output_type": "stream"
        }
      ]
    },
    {
      "cell_type": "code",
      "source": "for x in (2, 20, 55, 19, 56):\n    print(x)",
      "metadata": {
        "trusted": true
      },
      "execution_count": 49,
      "outputs": [
        {
          "name": "stdout",
          "text": "2\n20\n55\n19\n56\n",
          "output_type": "stream"
        }
      ]
    },
    {
      "cell_type": "code",
      "source": "#la funcion reange() sirve para ____ una lista\nfor x in range(5): #creo que dice que este caso es equivalente a range(0, 5)\n    print(x)",
      "metadata": {
        "trusted": true
      },
      "execution_count": 50,
      "outputs": [
        {
          "name": "stdout",
          "text": "0\n1\n2\n3\n4\n",
          "output_type": "stream"
        }
      ]
    },
    {
      "cell_type": "code",
      "source": "#Tambipen se puede inicializar desde números negativos\nfor x in range(-5, 2):\n    print(x)",
      "metadata": {
        "trusted": true
      },
      "execution_count": 51,
      "outputs": [
        {
          "name": "stdout",
          "text": "-5\n-4\n-3\n-2\n-1\n0\n1\n",
          "output_type": "stream"
        }
      ]
    },
    {
      "cell_type": "code",
      "source": "for num in (\"uno\", \"dos\", \"tres\", \"cuatro\"):\n    print(num)",
      "metadata": {
        "trusted": true
      },
      "execution_count": 52,
      "outputs": [
        {
          "name": "stdout",
          "text": "uno\ndos\ntres\ncuatro\n",
          "output_type": "stream"
        }
      ]
    },
    {
      "cell_type": "code",
      "source": "for num in (\"adiós\", \"tardes\", \"hola\", \"mañana\"):\n    print(num)",
      "metadata": {
        "trusted": true
      },
      "execution_count": 53,
      "outputs": [
        {
          "name": "stdout",
          "text": "adiós\ntardes\nhola\nmañana\n",
          "output_type": "stream"
        }
      ]
    },
    {
      "cell_type": "code",
      "source": "#cuando solo es una cadena\nfor num in ('adiós'): \n    print(num)",
      "metadata": {
        "trusted": true
      },
      "execution_count": 54,
      "outputs": [
        {
          "name": "stdout",
          "text": "a\nd\ni\nó\ns\n",
          "output_type": "stream"
        }
      ]
    },
    {
      "cell_type": "code",
      "source": "for num in (\"adiós\"):\n    print(num)",
      "metadata": {
        "trusted": true
      },
      "execution_count": 55,
      "outputs": [
        {
          "name": "stdout",
          "text": "a\nd\ni\nó\ns\n",
          "output_type": "stream"
        }
      ]
    },
    {
      "cell_type": "markdown",
      "source": "<b><p>Iteración en diccionarios</p></b>",
      "metadata": {}
    },
    {
      "cell_type": "code",
      "source": "#Creando un diccionario\nelementosQ = {'hidrógeno': 1, 'helio': 2, 'carbon': 6}",
      "metadata": {
        "trusted": true
      },
      "execution_count": 56,
      "outputs": []
    },
    {
      "cell_type": "code",
      "source": "for llavesota, valorsote in elementosQ.items():\n    print(llavesota, \"-\", valorsote)#a mi siempre me los imprime en orden, en la práctica este ejemplo no lo imprime en orden",
      "metadata": {
        "trusted": true
      },
      "execution_count": 57,
      "outputs": [
        {
          "name": "stdout",
          "text": "hidrógeno - 1\nhelio - 2\ncarbon - 6\n",
          "output_type": "stream"
        }
      ]
    },
    {
      "cell_type": "code",
      "source": "#Obtieniendo sólo las llaves\nfor llavesita in elementosQ.keys():\n    print(llavesita)",
      "metadata": {
        "trusted": true
      },
      "execution_count": 58,
      "outputs": [
        {
          "name": "stdout",
          "text": "hidrógeno\nhelio\ncarbon\n",
          "output_type": "stream"
        }
      ]
    },
    {
      "cell_type": "code",
      "source": "#Obtieniendo sólo los valores\nfor valorsito in elementosQ.values():\n    print(valorsito)",
      "metadata": {
        "trusted": true
      },
      "execution_count": 59,
      "outputs": [
        {
          "name": "stdout",
          "text": "1\n2\n6\n",
          "output_type": "stream"
        }
      ]
    },
    {
      "cell_type": "markdown",
      "source": "<p>En algunos lenguajes de programación se crea un índice para iterar un conjunto de elementos (for(int i=0; i<elementis.size(); ++i>)), sin embargo< con Python se puede utilizar la función enumerte() en su lugar.</p>",
      "metadata": {}
    },
    {
      "cell_type": "code",
      "source": "#si se necesita iterar utilizando un índice\nfor index, x in enumerate(elementosQ):\n    print(\"El índice es {} y el elemento es {}\".format(index,x))\n\n#parece que enumerate() necesita de una lista, una tupla o un diccionario \n#en x imprime lo que consiramos como keys",
      "metadata": {
        "trusted": true
      },
      "execution_count": 60,
      "outputs": [
        {
          "name": "stdout",
          "text": "El índice es 0 y el elemento es hidrógeno\nEl índice es 1 y el elemento es helio\nEl índice es 2 y el elemento es carbon\n",
          "output_type": "stream"
        }
      ]
    },
    {
      "cell_type": "markdown",
      "source": "<p>Los ciclos for pueden hacer uso del else una vez que terminan de iterar, pero no funciona si se rompe el ciclo.</p>",
      "metadata": {}
    },
    {
      "cell_type": "code",
      "source": "def cuenta_idiom(limite):\n    for i in range(limite, 0, -1): #(5, 0, -1): ¿que significa el 0 y el -1?\n        print(i)\n    else: #corresponder al for, NO al if\n        print(\"Cuenta finalizada\")\n\ncuenta_idiom(5)",
      "metadata": {
        "trusted": true
      },
      "execution_count": 61,
      "outputs": [
        {
          "name": "stdout",
          "text": "5\n4\n3\n2\n1\nCuenta finalizada\n",
          "output_type": "stream"
        }
      ]
    },
    {
      "cell_type": "code",
      "source": "def cuenta_idiom(limite):\n    for i in range(limite, 0, -1): #(5, 0, -1): ¿que significa el 0 y el -1?\n        print(i)\n        if i == 3:\n            break #se rompe el ciclo, de hecho sabemos que los break rompen ciclos\n    else: #corresponder al for, NO al if\n        print(\"Cuenta finalizada\")\n\ncuenta_idiom(5)",
      "metadata": {
        "trusted": true
      },
      "execution_count": 62,
      "outputs": [
        {
          "name": "stdout",
          "text": "5\n4\n3\n",
          "output_type": "stream"
        }
      ]
    },
    {
      "cell_type": "markdown",
      "source": "<hr></hr>\n<strong><h4>Bibliotecas</h4></strong>\n<p>Todas las funcionalidades de Python son proporcionadas a través de bibliotecas que se encuentran en la colección de The Pytho Stdandard Library, la mayoría de estas bibliotecas son multi-plataforma</p>\n\n<p>Referencia del leguaje: <a href=\"https://docs.python.org/3/reference/index.html\">https://docs.python.org/3/reference/index.html</a></p>\n<p>Bibliotecas estándar: <a href=\"https://docs.python.org/3/library/\">https://docs.python.org/3/library/</a></p>",
      "metadata": {}
    },
    {
      "cell_type": "code",
      "source": "#print(pi) error",
      "metadata": {
        "trusted": true
      },
      "execution_count": 63,
      "outputs": []
    },
    {
      "cell_type": "code",
      "source": "#Para utilizar una biblioteca, esta se debe importar\nimport math\n\nprint(math.pi) #error print(pi)\n\nx=math.cos(math.pi) #nota como debemos importar tanto como cos como pi\n\nprint(x)",
      "metadata": {
        "trusted": true
      },
      "execution_count": 64,
      "outputs": [
        {
          "name": "stdout",
          "text": "3.141592653589793\n-1.0\n",
          "output_type": "stream"
        }
      ]
    },
    {
      "cell_type": "code",
      "source": "\"\"\"También se pueden importar todas las funciones de la biblioteca, \nde esta manera no se teien que usar el prefijo de la biblioteca, \nque es el ejemplo anterior fue math\"\"\"\nfrom math import *\n\nx=cos(pi)\nprint(x)\n\nprint(cos(pi)) #ó directamente así\n\nprint(pi)\n\n",
      "metadata": {
        "trusted": true
      },
      "execution_count": 65,
      "outputs": [
        {
          "name": "stdout",
          "text": "-1.0\n-1.0\n3.141592653589793\n",
          "output_type": "stream"
        }
      ]
    },
    {
      "cell_type": "code",
      "source": "#Otra manera es importar sólo las funciones que se necesitan\nfrom math import cos, pi\n\nx=cos(pi)\n\nprint(x)",
      "metadata": {
        "trusted": true
      },
      "execution_count": 66,
      "outputs": [
        {
          "name": "stdout",
          "text": "-1.0\n",
          "output_type": "stream"
        }
      ]
    },
    {
      "cell_type": "code",
      "source": "#Una vez que la biblioteca está exportada, se pueden conocer las funciones que ¿___? contiene \nprint(dir(math))",
      "metadata": {
        "trusted": true
      },
      "execution_count": 67,
      "outputs": [
        {
          "name": "stdout",
          "text": "['__doc__', '__loader__', '__name__', '__package__', '__spec__', 'acos', 'acosh', 'asin', 'asinh', 'atan', 'atan2', 'atanh', 'cbrt', 'ceil', 'comb', 'copysign', 'cos', 'cosh', 'degrees', 'dist', 'e', 'erf', 'erfc', 'exp', 'exp2', 'expm1', 'fabs', 'factorial', 'floor', 'fmod', 'frexp', 'fsum', 'gamma', 'gcd', 'hypot', 'inf', 'isclose', 'isfinite', 'isinf', 'isnan', 'isqrt', 'lcm', 'ldexp', 'lgamma', 'log', 'log10', 'log1p', 'log2', 'modf', 'nan', 'nextafter', 'perm', 'pi', 'pow', 'prod', 'radians', 'remainder', 'sin', 'sinh', 'sqrt', 'tan', 'tanh', 'tau', 'trunc', 'ulp']\n",
          "output_type": "stream"
        }
      ]
    },
    {
      "cell_type": "code",
      "source": "#Para conocer cómo utilizar las funciones, se puede utilizar la función help\nhelp(math.log)",
      "metadata": {
        "trusted": true
      },
      "execution_count": 68,
      "outputs": [
        {
          "name": "stdout",
          "text": "Help on built-in function log in module math:\n\nlog(...)\n    log(x, [base=math.e])\n    Return the logarithm of x to the given base.\n    \n    If the base not specified, returns the natural logarithm (base e) of x.\n\n",
          "output_type": "stream"
        }
      ]
    },
    {
      "cell_type": "code",
      "source": "log(10, 2)",
      "metadata": {
        "trusted": true
      },
      "execution_count": 69,
      "outputs": [
        {
          "execution_count": 69,
          "output_type": "execute_result",
          "data": {
            "text/plain": "3.3219280948873626"
          },
          "metadata": {}
        }
      ]
    },
    {
      "cell_type": "code",
      "source": "log(10)",
      "metadata": {
        "trusted": true
      },
      "execution_count": 70,
      "outputs": [
        {
          "execution_count": 70,
          "output_type": "execute_result",
          "data": {
            "text/plain": "2.302585092994046"
          },
          "metadata": {}
        }
      ]
    },
    {
      "cell_type": "code",
      "source": "#Se puede definir un alias para llamar a las funciones que tiene la biblioteca math.\n\"\"\"Esta es la forma más recomendada para importar módulos, \nya que de esta manera se sabe de qué módulo proviene la función\"\"\"\n\nimport math as ma #antes nadamás era import math\nx=ma.cos(ma.pi) #si no querías importar todas con * o si no querías importar nadamás cos y pi\nprint(x)",
      "metadata": {
        "trusted": true
      },
      "execution_count": 71,
      "outputs": [
        {
          "name": "stdout",
          "text": "-1.0\n",
          "output_type": "stream"
        }
      ]
    },
    {
      "cell_type": "markdown",
      "source": "<code style=\"color:blue\"><p>Bibliotecas más usadas</p></code>\n<ul><li><p>NumPy (Numerical Python). Es una de las bibliotecas más populares de Python, es usado para realizar operaciones con vectores o matrices de una manera eficiente. Contiene funciones de Álgebra Lineal, transformadas de Fourier, generación de números aleatorios e integración con Fortran, C y C++. <br>Fuente: <a href=\"http://www.numpy.org/\">http://www.numpy.org/</a></p></li></ul>\n<ul><li><p>SciPy (Scientific Python). Es una biblioteca hace uso de Numpy y es utilizada para hacer operaciones más avanzadas como transformadas discretas de Fourier, Álgebra Lineal, Optimización, etc.\n<br>Fuente: <a href=\"http://www.scipy.org/\">http://www.scipy.org/</a></p></li></ul>\n<ul><li><p>Matplotlib. Esta biblioteca es usada para generar una veriedad de gráficas en 2D y 3D, donde cada una de las configuraciones de la gráfica es programable. Se puede usar comando de Latex para agregar ecuaciones matemáticas a las gráficas.\n<br>Fuente: <a href=\"http://matplotlib.org/\">http://matplotlib.org/</a></p></li></ul>\n<ul><li><p>Scikit Learn (Machine Learning). Ésta biblioteca está basada en los anteriores y contiene algoritmos de aprendizaje de máquina, reconocimiento de patrones y estadísticas para realizar clasificación, regresión, clustering, etc.\n<br>Fuente: <a href=\"http://scikit-learn.org/\">http://scikit-learn.org/</a></p></li></ul>\n<ul><p><li>Pandas (Manipulación de datos). Esta biblioteca es utilizada para manipulación de datos, contiene estructuras de datos llamadas data frames que se asemejan a las hojas de cálculo y a los cuales se le puede aplicar una gran cantidad de funciones. <br>Fuente: <a href=\"http://pandas.pydata.org/\">http://pandas.pydata.org/</a></li></p></ul>\n<ul><p>ANEXO 1: En esta guía se explica de manera más detallada el uso de las bibliotecas Numpy y Matplotlib.</p></ul>\n<ul><li><p>Jupyter Notebook GitHub: <a href=\"https://github.com/eegkno/FI_UNAM/blob/master/02_Estructuras_de_datos_y_algoritmos_1/Anexos/Anexo_I.ipynb\">https://github.com/eegkno/FI_UNAM/blob/master/02_Estructuras_de_datos_y_algoritmos_1/Anexos/Anexo_I.ipynb</a><p></li></ul>\n",
      "metadata": {}
    },
    {
      "cell_type": "markdown",
      "source": "<ul><li><p>Jupyter Notebook Visualizador: <a href=\"http://nbviewer.jupyter.org/github/eegkno/FI_UNAM/blob/master/02_Estructuras_de_datos_y_algoritmos_1/Anexos/Anexo_I.ipynb\">http://nbviewer.jupyter.org/github/eegkno/FI_UNAM/blob/master/02_Estructuras_de_datos_y_algoritmos_1/Anexos/Anexo_I.ipynb</a></p></li></ul>",
      "metadata": {}
    },
    {
      "cell_type": "markdown",
      "source": "<hr>\n<code style=\"color:black\"><strong><h4>Graficación</h4></strong></code>\n<p>Matplotlib (<a herf=\"http://matplotlib.org/\">http://matplotlib.org/</a>) es una biblioteca usada para generar gráficas en 2D y 3D, donde cada una de las configuraciones de la gráfica es programable. En el siguiente ejemplo se mostrará la configuración básica de una gráfica<br>\nEL API de matplotlib se encuentra en <a href=\"http://matplotlib.org/api/index.html\">http://matplotlib.org/api/index.html</a></p>",
      "metadata": {}
    },
    {
      "cell_type": "code",
      "source": "%pylab inline\nimport matplotlib.pyplot as plt\nfrom mpl_toolkits.mplot3d import Axes3D\n\nx = linspace(0, 5, 20)\n\nfig, ax = plt.subplots(facecolor='w', edgecolor='k')\nax.plot(x, sin(x), marker=\"o\", color=\"r\", linestyle='None')\n\nax.grid(True) #queremos verla cuadriculada\nax.set_xlabel('X') \nax.set_ylabel('Y') \nax.grid(True)\nax.legend([\"y = x**2\"])\n\nplt.title(\"Puntos\")\nplt.show()\n\nfig.savefig(\"gráfica.png\") ",
      "metadata": {
        "trusted": true
      },
      "execution_count": 78,
      "outputs": [
        {
          "name": "stdout",
          "text": "%pylab is deprecated, use %matplotlib inline and import the required libraries.\nPopulating the interactive namespace from numpy and matplotlib\n",
          "output_type": "stream"
        },
        {
          "output_type": "display_data",
          "data": {
            "text/plain": "<Figure size 640x480 with 1 Axes>",
            "image/png": "[encoded data removed]"
          },
          "metadata": {}
        }
      ]
    },
    {
      "cell_type": "code",
      "source": "",
      "metadata": {},
      "execution_count": null,
      "outputs": []
    }
  ]
}